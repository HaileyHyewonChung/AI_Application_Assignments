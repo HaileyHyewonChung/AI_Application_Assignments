{
  "cells": [
    {
      "cell_type": "markdown",
      "metadata": {
        "id": "HI3htaMJOLnV"
      },
      "source": [
        "#**Assignment 2 - Python 기초 복습하기 1**\n",
        "---\n",
        "By 이기백  \n",
        "인공지능응용 두 번째 과제\n",
        "\n",
        "## Technologies Used\n",
        "* Google Colab\n",
        "* Jupyter Notebook\n",
        "* Markdown\n",
        "* Python\n",
        "\n",
        "## Description\n",
        "이 과제에서는 `Python` 기초 문법을 복습합니다.  \n",
        "이 문서는 Google Colab에서 Markdown 문법을 이용해 작성되었습니다.\n",
        "\n",
        "## Setup/Installation Requirements\n",
        "* KLAS에서 과제의 첨부파일(노트)을 다운로드\n",
        "* 구글드라이브에 노트 업로드\n",
        "  - 노트의 파일명을 **학번\\_이름\\_Assignment_2.ipynb**로 변경\n",
        "* _Colab_ 에서 해당 노트에 Problem 해결\n",
        "* 해당 노트를 다운로드한 후 KLAS에서 과제로 제출\n",
        "\n"
      ]
    },
    {
      "cell_type": "markdown",
      "metadata": {
        "id": "6Y7nwpqZdmQ1"
      },
      "source": [
        "## Problem 1\n",
        "* 강의자료 예제 실행해보기  \n",
        "  + 강의자료의 **Python 기초 문법** 예제들을 이 아래에 코드블럭으로 재작성하고 실행\n",
        "\n"
      ]
    },
    {
      "cell_type": "code",
      "source": [
        "# 2.1 주석\n",
        "\n",
        "# 한 줄 주석\n",
        "# helloworld\n",
        "print('hello world')\n",
        "\n",
        "# 주석 블럭\n",
        "'''\n",
        "Function name: helloworld()\n",
        "This function prints 'hello world'\n",
        "'''\n",
        "def helloworld():\n",
        "    print('hello world')\n",
        "\n",
        "helloworld()\n",
        "\n",
        "\n",
        "# 2.2 들여쓰기와 코드블럭\n",
        "\n",
        "# 역할1: 반복/제어 구문의 적용 범위를 나타낸다.\n",
        "print('start')\n",
        "for i in range(10):\n",
        "    if i>5:\n",
        "        print('i = %d > 5' % i)\n",
        "        # if의 범위는 여기까지다.\n",
        "    elif i<5:\n",
        "        print('i = %d < 5' % i)\n",
        "    else:\n",
        "        print('i = %d = 5' % i)\n",
        "    # for의 범위는 여기까지다.\n",
        "print('end')\n",
        "\n",
        "# 역할2: 함수/클래스 정의 범위를 나타낸다.\n",
        "def function1():\n",
        "    print('  function start')\n",
        "    print('  function end')\n",
        "# 여기까지 함수의 영역이다.\n",
        "print('script start')\n",
        "function1()\n",
        "print('script end')\n",
        "\n",
        "\n",
        "# 2.3 입출력하기\n",
        "\n",
        "# 입력받기\n",
        "a = input()\n",
        "print(a)\n",
        "\n",
        "# 출력하기\n",
        "i = 4\n",
        "j = 4.5\n",
        "k = 'abc'\n",
        "print('i=%d j=%.1f k=%s' % (i,j,k))\n"
      ],
      "metadata": {
        "id": "iXEpXajb9sdE"
      },
      "execution_count": null,
      "outputs": []
    },
    {
      "cell_type": "markdown",
      "metadata": {
        "id": "dZCjgtqsdn2j"
      },
      "source": [
        "## Problem 2\n",
        "* 프로그램 작성해보기\n",
        "  + 제시된 출력결과를 보고, 아래 미완성 프로그램을 완성\n",
        "\n"
      ]
    },
    {
      "cell_type": "markdown",
      "metadata": {
        "id": "J8V7MUjI9p0W"
      },
      "source": []
    },
    {
      "cell_type": "code",
      "execution_count": null,
      "metadata": {
        "id": "7NtLnfUydyUR",
        "outputId": "83e002f6-c5d8-4d31-c996-3ed201bbce67"
      },
      "outputs": [
        {
          "ename": "",
          "evalue": "",
          "output_type": "error",
          "traceback": [
            "\u001b[1;31m'Python 3.10.6 64-bit'(으)로 셀을 실행하려면 ipykernel 패키지가 필요합니다.\n",
            "\u001b[1;31m다음 명령어를 실행하여 Python 환경에 'ipykernel'을(를) 설치합니다. \n",
            "\u001b[1;31m 명령: '\"c:/Users/Hyewon Chung/AppData/Local/Programs/Python/Python310/python.exe\" -m pip install ipykernel -U --user --force-reinstall'"
          ]
        }
      ],
      "source": [
        "# 사용자로부터 변수를 입력받아 저장\n",
        "name =input('What is your name?')\n",
        "age = int(input('How old are you?'))\n",
        "grade = float(input('What is your grade point average?'))\n",
        "\n",
        "# 저장된 결과를 화면에 출력\n",
        "print('Your name is %s' % name)\n",
        "print('Your age is %d' % age)\n",
        "print('Your grade is %.1f' % grade)"
      ]
    },
    {
      "cell_type": "markdown",
      "metadata": {
        "id": "PqXDUnCkfIUn"
      },
      "source": [
        "> 출력결과\n",
        "\n",
        "What is your name? (키보드입력)Kim  \n",
        "How old are you? (키보드입력)20  \n",
        "What is your grade point average? (키보드입력)4.5  \n",
        "Your name is Kim  \n",
        "Your age is 20  \n",
        "Your grade is 4.5  "
      ]
    },
    {
      "cell_type": "markdown",
      "metadata": {
        "id": "pWoLA53bdr6u"
      },
      "source": [
        "## Known Bugs\n",
        "* 알려진 <u>버그</u> 없음\n",
        "\n",
        "## License\n",
        ">[MIT License](https://opensource.org/licenses/MIT)\n",
        "\n",
        "Copyright (c) 2021 Ki-Baek Lee"
      ]
    }
  ],
  "metadata": {
    "colab": {
      "collapsed_sections": [],
      "provenance": []
    },
    "kernelspec": {
      "display_name": "Python 3.10.6 64-bit",
      "language": "python",
      "name": "python3"
    },
    "language_info": {
      "name": "python",
      "version": "3.10.6"
    },
    "vscode": {
      "interpreter": {
        "hash": "be703a84aa617245a34f68b9f105f21a7bac629a0431e491a624c7ae209a0c9c"
      }
    }
  },
  "nbformat": 4,
  "nbformat_minor": 0
}