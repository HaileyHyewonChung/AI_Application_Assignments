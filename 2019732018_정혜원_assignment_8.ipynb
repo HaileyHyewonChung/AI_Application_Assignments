{
  "nbformat": 4,
  "nbformat_minor": 0,
  "metadata": {
    "colab": {
      "provenance": [],
      "collapsed_sections": []
    },
    "kernelspec": {
      "name": "python3",
      "display_name": "Python 3"
    },
    "language_info": {
      "name": "python"
    }
  },
  "cells": [
    {
      "cell_type": "markdown",
      "source": [
        "# Logistic Regression\n",
        "\n",
        "### Imports"
      ],
      "metadata": {
        "id": "lqRjPgyFDlPa"
      }
    },
    {
      "cell_type": "code",
      "source": [
        "import numpy as np\n",
        "import torch\n",
        "import torch.nn as nn\n",
        "import torch.nn.functional as func\n",
        "import torch.optim as opt\n",
        "\n",
        "#from google.colab import drive\n",
        "#drive.mount('/content/drive')\n",
        "\n",
        "# Seed 고정\n",
        "torch.manual_seed(1)"
      ],
      "metadata": {
        "colab": {
          "base_uri": "https://localhost:8080/"
        },
        "id": "bavZvdLhGPe6",
        "outputId": "b1008d88-7705-43a9-85c3-a940f752455c"
      },
      "execution_count": 16,
      "outputs": [
        {
          "output_type": "execute_result",
          "data": {
            "text/plain": [
              "<torch._C.Generator at 0x7feb144ae790>"
            ]
          },
          "metadata": {},
          "execution_count": 16
        }
      ]
    },
    {
      "cell_type": "markdown",
      "source": [
        "### 1. Data loading\n",
        "\n",
        "|$x_1$|$x_2$|$y$|\n",
        "|:---:|:---:|:---:|\n",
        "|1|2|0|\n",
        "|2|3|0|\n",
        "|3|1|0|\n",
        "|4|3|1|\n",
        "|5|3|1|\n",
        "|6|2|1|"
      ],
      "metadata": {
        "id": "TbDX52kkGNdN"
      }
    },
    {
      "cell_type": "code",
      "source": [
        "# Data 수동으로 입력하기\n",
        "x_train = torch.FloatTensor([[1, 2], [2, 3], [3, 1], [4, 3], [5, 3], [6, 2]])\n",
        "y_train = torch.FloatTensor([[0], [0], [0], [1], [1], [1]])\n",
        "\n",
        "print(x_train)\n",
        "print(x_train.shape)\n",
        "print(y_train)\n",
        "print(y_train.shape)\n",
        "\n",
        "# Model 설계\n",
        "class Logistic(nn.Module):\n",
        "    def __init__(self, num_inputs, num_outputs):\n",
        "        super().__init__()\n",
        "        self.linear = nn.Linear(num_inputs, num_outputs)\n",
        "        self.sigmoid = nn.Sigmoid()\n",
        "\n",
        "    def forward(self, x):\n",
        "        return self.sigmoid(self.linear(x))\n",
        "\n",
        "# Model 초기화 (입력 dim, 출력 dim)\n",
        "model = Logistic(2, 1)"
      ],
      "metadata": {
        "colab": {
          "base_uri": "https://localhost:8080/"
        },
        "id": "nkSKtyHLGw8v",
        "outputId": "683d33e8-bd5f-4100-de97-f8fccf74790f"
      },
      "execution_count": 17,
      "outputs": [
        {
          "output_type": "stream",
          "name": "stdout",
          "text": [
            "tensor([[1., 2.],\n",
            "        [2., 3.],\n",
            "        [3., 1.],\n",
            "        [4., 3.],\n",
            "        [5., 3.],\n",
            "        [6., 2.]])\n",
            "torch.Size([6, 2])\n",
            "tensor([[0.],\n",
            "        [0.],\n",
            "        [0.],\n",
            "        [1.],\n",
            "        [1.],\n",
            "        [1.]])\n",
            "torch.Size([6, 1])\n"
          ]
        }
      ]
    },
    {
      "cell_type": "markdown",
      "source": [
        "### 2. Hypothesis, Cost and Optimization\n",
        "\n",
        "- 다음 수식을 만족한다고 가정한다\n",
        "  + Input이 1개(Scalar)인 경우\n",
        "  $$ y_{hypo} = H(x) = \\cfrac{1}{1+e^{-αx}} $$\n",
        "  + Input이 여러개(Vector)인 경우\n",
        "  $$ y_{hypo} = H(x) = \\cfrac{1}{1+e^{-W^TX}} $$\n",
        "\n",
        "- ex) data가 3개인 경우, \n",
        "$$ y = \\cfrac{1}{1+e^{-\t\\begin{bmatrix} \n",
        "\tw_1 & w_2 & w_3 \\\\\n",
        "\t\\end{bmatrix}⋅\t\\begin{bmatrix} \n",
        "\tx_1 \\\\\n",
        "  x_2 \\\\\n",
        "  x_3 \\\\\n",
        "\t\\end{bmatrix}}} $$\n",
        "  + 이를 만족하는 $W$를 구해야 한다\n",
        "\n",
        "- Cost function으로 Binary Cross Entropy를 이용한다\n",
        "\n",
        "$$ -[y_{train}log(y_{hypo}) + (1 - y_{train})log(1 - y_{hypo})] $$"
      ],
      "metadata": {
        "id": "NhiYhIn7Gzf5"
      }
    },
    {
      "cell_type": "code",
      "source": [
        "# Optimizer 설정 (learning rate = 1로 설정)\n",
        "optimizer = opt.SGD(model.parameters(), lr=1)\n",
        "\n",
        "# 반복\n",
        "for epoch in range(100):\n",
        "\n",
        "  # Cost 계산 / mse_loss(가정에의한값, 참값)\n",
        "  y_hypo = model(x_train)\n",
        "  cost = func.binary_cross_entropy(y_hypo, y_train)\n",
        "\n",
        "  # cost를 이용해 model update\n",
        "  optimizer.zero_grad()\n",
        "  cost.backward()\n",
        "  optimizer.step()\n",
        "\n",
        "  # 10번 마다 중간결과 출력\n",
        "  if epoch % 10 == 9:\n",
        "    prediction = y_hypo >= torch.FloatTensor([0.5])\n",
        "    correct_prediction = prediction.float() == y_train\n",
        "    accuracy = correct_prediction.sum().item() / len(correct_prediction)\n",
        "    print('Epoch {:4d}/{} Cost: {:.6f} Accuracy {:2.2f}%'.format(\n",
        "            epoch, 100, cost.item(), accuracy * 100,\n",
        "    ))"
      ],
      "metadata": {
        "id": "R5tkpF5NKWEZ",
        "outputId": "51a59f2b-d5e9-47b3-d38e-939a0eedbd73",
        "colab": {
          "base_uri": "https://localhost:8080/"
        }
      },
      "execution_count": 18,
      "outputs": [
        {
          "output_type": "stream",
          "name": "stdout",
          "text": [
            "Epoch    9/100 Cost: 0.764956 Accuracy 66.67%\n",
            "Epoch   19/100 Cost: 0.596826 Accuracy 83.33%\n",
            "Epoch   29/100 Cost: 0.491604 Accuracy 83.33%\n",
            "Epoch   39/100 Cost: 0.405330 Accuracy 83.33%\n",
            "Epoch   49/100 Cost: 0.323565 Accuracy 83.33%\n",
            "Epoch   59/100 Cost: 0.249201 Accuracy 83.33%\n",
            "Epoch   69/100 Cost: 0.191438 Accuracy 100.00%\n",
            "Epoch   79/100 Cost: 0.159492 Accuracy 100.00%\n",
            "Epoch   89/100 Cost: 0.145180 Accuracy 100.00%\n",
            "Epoch   99/100 Cost: 0.135187 Accuracy 100.00%\n"
          ]
        }
      ]
    },
    {
      "cell_type": "markdown",
      "source": [
        "# 3 Assignment\n",
        "  * Data 파일을 이용한 Logistic Regression\n",
        "    * data_logistic_regression.csv을 이용해 학습한다\n",
        "      *8개의 input, 1개의 output  \n",
        "      \\begin{bmatrix}x_1,\\ldots,x_8,y\\end{bmatrix}  \n",
        "      * Accuracy 75% 이상을 달성한다"
      ],
      "metadata": {
        "id": "m6OWfilp_Hoo"
      }
    },
    {
      "cell_type": "code",
      "execution_count": 1,
      "metadata": {
        "id": "nq754OHG-3Oo"
      },
      "outputs": [],
      "source": [
        "#imports\n",
        "import numpy as np\n",
        "import torch\n",
        "import torch.nn as nn\n",
        "import torch.nn.functional as func\n",
        "import torch.optim as opt"
      ]
    },
    {
      "cell_type": "code",
      "source": [
        "from google.colab import drive\n",
        "drive.mount('/content/drive')"
      ],
      "metadata": {
        "colab": {
          "base_uri": "https://localhost:8080/"
        },
        "id": "DSzJbLFA_QZC",
        "outputId": "cbdd8740-7117-4f12-ca67-8523037ca8fb"
      },
      "execution_count": 2,
      "outputs": [
        {
          "output_type": "stream",
          "name": "stdout",
          "text": [
            "Mounted at /content/drive\n"
          ]
        }
      ]
    },
    {
      "cell_type": "code",
      "source": [
        "# Seed 고정\n",
        "torch.manual_seed(1)"
      ],
      "metadata": {
        "colab": {
          "base_uri": "https://localhost:8080/"
        },
        "id": "qrSCEJjB_2IB",
        "outputId": "925a2ac5-d972-421f-9373-908bc7a24be5"
      },
      "execution_count": 3,
      "outputs": [
        {
          "output_type": "execute_result",
          "data": {
            "text/plain": [
              "<torch._C.Generator at 0x7feb144ae790>"
            ]
          },
          "metadata": {},
          "execution_count": 3
        }
      ]
    },
    {
      "cell_type": "code",
      "source": [
        "#dataset 불러오기 (구글 드라이브 사용)\n",
        "dataset = np.loadtxt(\n",
        "    '/content/drive/MyDrive/Colab Notebooks/data_logistic_regression.csv', \n",
        "    delimiter=',', \n",
        "    dtype=np.float32)"
      ],
      "metadata": {
        "id": "9G2zkMInAKVe"
      },
      "execution_count": 5,
      "outputs": []
    },
    {
      "cell_type": "code",
      "source": [
        "# Dataset의 순서를 random으로 섞기\n",
        "np.random.shuffle(dataset)"
      ],
      "metadata": {
        "id": "zoBiKpOYANKW"
      },
      "execution_count": 6,
      "outputs": []
    },
    {
      "cell_type": "code",
      "source": [
        "# torch tensor로 변환 (Input은 8개,Output은 1개이며 각 data의 마지막 줄이 Output이 되게 하였다.)\n",
        "x_train = torch.FloatTensor(dataset[:,:-1])\n",
        "y_train = torch.FloatTensor(dataset[:,[-1]])"
      ],
      "metadata": {
        "id": "hLz3pdd-A380"
      },
      "execution_count": 11,
      "outputs": []
    },
    {
      "cell_type": "code",
      "source": [
        "# Logistic Regression Model 설계\n",
        "class Logistic(nn.Module):\n",
        "    def __init__(self, num_inputs, num_outputs):\n",
        "        super().__init__()\n",
        "        self.linear = nn.Linear(num_inputs, num_outputs)\n",
        "        self.sigmoid = nn.Sigmoid()\n",
        "\n",
        "    def forward(self, x):\n",
        "        return self.sigmoid(self.linear(x))"
      ],
      "metadata": {
        "id": "0FJS_ORfAgeX"
      },
      "execution_count": 12,
      "outputs": []
    },
    {
      "cell_type": "code",
      "source": [
        "# Model 초기화 (입력 dim, 출력 dim)\n",
        "model = Logistic(8, 1)"
      ],
      "metadata": {
        "id": "QW-wip-TAlEj"
      },
      "execution_count": 13,
      "outputs": []
    },
    {
      "cell_type": "code",
      "source": [
        "# Optimizer 설정 (learning rate = 2로 설정)\n",
        "optimizer = opt.SGD(model.parameters(), lr=2)"
      ],
      "metadata": {
        "id": "m5v2iYDuAn1f"
      },
      "execution_count": 14,
      "outputs": []
    },
    {
      "cell_type": "code",
      "source": [
        "for epoch in range(1000):\n",
        "\n",
        "  # Cost 계산 / mse_loss(가정에의한값, 참값)\n",
        "  y_hypo = model(x_train)\n",
        "  cost = func.binary_cross_entropy(y_hypo, y_train)\n",
        "\n",
        "  # cost를 이용해 model update\n",
        "  optimizer.zero_grad()\n",
        "  cost.backward()\n",
        "  optimizer.step()\n",
        "\n",
        "  # 100번 마다 중간결과 출력(epoch=1000)\n",
        "  if epoch % 100 == 99:\n",
        "    prediction = y_hypo >= torch.FloatTensor([0.5])\n",
        "    correct_prediction = prediction.float() == y_train\n",
        "    accuracy = correct_prediction.sum().item() / len(correct_prediction)\n",
        "    print('Epoch {:4d}/{} Cost: {:.6f} Accuracy {:2.2f}%'.format(\n",
        "            epoch, 1000, cost.item(), accuracy * 100,\n",
        "    ))"
      ],
      "metadata": {
        "colab": {
          "base_uri": "https://localhost:8080/"
        },
        "id": "VmwLjsQTAp5-",
        "outputId": "e20b7e62-e9ac-48b9-e4c1-1e681415c714"
      },
      "execution_count": 15,
      "outputs": [
        {
          "output_type": "stream",
          "name": "stdout",
          "text": [
            "Epoch   99/1000 Cost: 0.473820 Accuracy 77.08%\n",
            "Epoch  199/1000 Cost: 0.472031 Accuracy 77.08%\n",
            "Epoch  299/1000 Cost: 0.471753 Accuracy 76.81%\n",
            "Epoch  399/1000 Cost: 0.471690 Accuracy 76.94%\n",
            "Epoch  499/1000 Cost: 0.471675 Accuracy 76.94%\n",
            "Epoch  599/1000 Cost: 0.471672 Accuracy 76.94%\n",
            "Epoch  699/1000 Cost: 0.471671 Accuracy 76.94%\n",
            "Epoch  799/1000 Cost: 0.471671 Accuracy 76.94%\n",
            "Epoch  899/1000 Cost: 0.471671 Accuracy 76.94%\n",
            "Epoch  999/1000 Cost: 0.471671 Accuracy 76.94%\n"
          ]
        }
      ]
    }
  ]
}