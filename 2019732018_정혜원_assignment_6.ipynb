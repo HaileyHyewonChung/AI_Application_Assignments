{
  "nbformat": 4,
  "nbformat_minor": 0,
  "metadata": {
    "colab": {
      "provenance": [],
      "collapsed_sections": []
    },
    "kernelspec": {
      "name": "python3",
      "display_name": "Python 3"
    },
    "language_info": {
      "name": "python"
    }
  },
  "cells": [
    {
      "cell_type": "markdown",
      "source": [
        "# Tensor Manipulation\n",
        "\n",
        "### Imports"
      ],
      "metadata": {
        "id": "LiAxBMefiq-V"
      }
    },
    {
      "cell_type": "code",
      "source": [
        "import numpy as np\n",
        "import torch"
      ],
      "metadata": {
        "id": "L0X8jYNZixk4"
      },
      "execution_count": 4,
      "outputs": []
    },
    {
      "cell_type": "markdown",
      "source": [
        "### 1. Tensor in PyTorch\n",
        "\n",
        "+ Tensor?\n",
        "  - Vector (Rank = 1)\n",
        "\n",
        "\t$$\n",
        "\t\\begin{bmatrix} \n",
        "\t1 & 2 & 3 \\\\\n",
        "\t\\end{bmatrix}\n",
        "\t\\quad\n",
        "\t$$\n",
        "\n",
        "  - Matrix (Rank = 2)\n",
        "\t$$\n",
        "\t\\begin{bmatrix} \n",
        "\t1 & 2 & 3 \\\\\n",
        "  4 & 5 & 6 \\\\\n",
        "\t\\end{bmatrix}\n",
        "\t\\quad\n",
        "\t$$\n",
        "\n",
        "  - Tensor (Rank > 2)\n",
        "    * 2D 화면에 표현하기 어렵다\n",
        "    * 머리속에 상상 가능하지만 개인차가 있음\n",
        "  - rank, shape, axis에 관한 수학적 정의를 시간날 때 마다 복습해 두는 것을 추천\n",
        "  - 관련 유튜브 영상도 많다"
      ],
      "metadata": {
        "id": "24ppka4Ai0uL"
      }
    },
    {
      "cell_type": "code",
      "source": [
        "# Numpy와 비슷한 문법\n",
        "tensor = torch.FloatTensor([1, 2, 3, 4])\n",
        "print(tensor)  # tensor 출력\n",
        "print(tensor.shape)   # tensor의 shape 출력\n",
        "print(tensor[1:3])    # tensor slicing"
      ],
      "metadata": {
        "colab": {
          "base_uri": "https://localhost:8080/"
        },
        "id": "NCRCWl54kFSv",
        "outputId": "e6fbce6c-8cc4-467b-b77d-5341edd5cfb9"
      },
      "execution_count": 5,
      "outputs": [
        {
          "output_type": "stream",
          "name": "stdout",
          "text": [
            "tensor([1., 2., 3., 4.])\n",
            "torch.Size([4])\n",
            "tensor([2., 3.])\n"
          ]
        }
      ]
    },
    {
      "cell_type": "code",
      "source": [
        "# 3차원 이상\n",
        "tensor3d = torch.FloatTensor([[[1, 2, 3, 4], \n",
        "                                [5, 6, 7, 8],\n",
        "                                [9, 10, 11, 12]],\n",
        "                              \n",
        "                               [[13, 14, 15, 16],\n",
        "                                [17, 18, 19, 20],\n",
        "                                [21, 22, 23, 24]]])\n",
        "print(tensor3d)   # tensor3d 출력\n",
        "print(tensor3d.shape)   # tensro3d의 shape 출력"
      ],
      "metadata": {
        "colab": {
          "base_uri": "https://localhost:8080/"
        },
        "id": "zc-vIWkgkbWd",
        "outputId": "834300f4-2126-45b1-fc47-dc3db57baf0e"
      },
      "execution_count": 6,
      "outputs": [
        {
          "output_type": "stream",
          "name": "stdout",
          "text": [
            "tensor([[[ 1.,  2.,  3.,  4.],\n",
            "         [ 5.,  6.,  7.,  8.],\n",
            "         [ 9., 10., 11., 12.]],\n",
            "\n",
            "        [[13., 14., 15., 16.],\n",
            "         [17., 18., 19., 20.],\n",
            "         [21., 22., 23., 24.]]])\n",
            "torch.Size([2, 3, 4])\n"
          ]
        }
      ]
    },
    {
      "cell_type": "markdown",
      "source": [
        "### 2. Tensor Combinations\n",
        "\n",
        "- Concatenation\n",
        "  + 경계를 무너뜨리며 붙인다\n",
        "\n",
        "  $$\n",
        "\t\\begin{bmatrix} \n",
        "\t1 & 2 \\\\\n",
        "  3 & 4 \\\\\n",
        "\t\\end{bmatrix}\n",
        "\t\\quad\n",
        "  (·)\n",
        "  \\quad\n",
        "  \\begin{bmatrix} \n",
        "\t5 & 6 \\\\\n",
        "  7 & 8 \\\\\n",
        "\t\\end{bmatrix}\n",
        "\t\\quad\n",
        "  \\rightarrow\n",
        "  \\quad\n",
        "  \\begin{bmatrix} \n",
        "\t1 & 2 & 5 & 6 \\\\\n",
        "  3 & 4 & 7 & 8 \\\\\n",
        "\t\\end{bmatrix}\n",
        "\t\\quad\n",
        "\t$$"
      ],
      "metadata": {
        "id": "ygFdPTNCk9Bw"
      }
    },
    {
      "cell_type": "code",
      "source": [
        "x = torch.FloatTensor([[1, 2], [3, 4]])\n",
        "y = torch.FloatTensor([[5, 6], [7, 8]])\n",
        "print(x)\n",
        "print(y)\n",
        "print(torch.cat([x,y], dim = 0))\n",
        "print(torch.cat([x,y], dim = 1))"
      ],
      "metadata": {
        "colab": {
          "base_uri": "https://localhost:8080/"
        },
        "id": "Wb7T96Udkvxg",
        "outputId": "524f35f6-8cb6-4e4f-dc43-9c4b23c57772"
      },
      "execution_count": 7,
      "outputs": [
        {
          "output_type": "stream",
          "name": "stdout",
          "text": [
            "tensor([[1., 2.],\n",
            "        [3., 4.]])\n",
            "tensor([[5., 6.],\n",
            "        [7., 8.]])\n",
            "tensor([[1., 2.],\n",
            "        [3., 4.],\n",
            "        [5., 6.],\n",
            "        [7., 8.]])\n",
            "tensor([[1., 2., 5., 6.],\n",
            "        [3., 4., 7., 8.]])\n"
          ]
        }
      ]
    },
    {
      "cell_type": "markdown",
      "source": [
        "- Stack\n",
        "  + 경계를 구분한 채로 붙인다\n",
        "\n",
        "  $$\n",
        "\t\\begin{bmatrix} \n",
        "\t1 & 2 \\\\\n",
        "  3 & 4 \\\\\n",
        "\t\\end{bmatrix}\n",
        "\t\\quad\n",
        "  (*)\n",
        "  \\quad\n",
        "  \\begin{bmatrix} \n",
        "\t5 & 6 \\\\\n",
        "  7 & 8 \\\\\n",
        "\t\\end{bmatrix}\n",
        "\t\\quad\n",
        "  \\rightarrow\n",
        "  \\quad\n",
        "  \\begin{bmatrix}\n",
        "  \\begin{bmatrix} \n",
        "\t1 & 2 \\\\\n",
        "  3 & 4 \\\\\n",
        "\t\\end{bmatrix}\n",
        "  \\quad\n",
        "  \\begin{bmatrix} \n",
        "\t5 & 6 \\\\\n",
        "  7 & 8 \\\\\n",
        "\t\\end{bmatrix}\n",
        "  \\end{bmatrix}\n",
        "\t\\quad\n",
        "\t$$"
      ],
      "metadata": {
        "id": "t_LWK3_1mKsZ"
      }
    },
    {
      "cell_type": "code",
      "source": [
        "print(torch.stack([x,y], dim = 0))\n",
        "print(torch.stack([x,y], dim = 1))"
      ],
      "metadata": {
        "colab": {
          "base_uri": "https://localhost:8080/"
        },
        "id": "20wNN4L0mJay",
        "outputId": "2294ff39-6edb-4abb-fd2a-64383508623b"
      },
      "execution_count": 8,
      "outputs": [
        {
          "output_type": "stream",
          "name": "stdout",
          "text": [
            "tensor([[[1., 2.],\n",
            "         [3., 4.]],\n",
            "\n",
            "        [[5., 6.],\n",
            "         [7., 8.]]])\n",
            "tensor([[[1., 2.],\n",
            "         [5., 6.]],\n",
            "\n",
            "        [[3., 4.],\n",
            "         [7., 8.]]])\n"
          ]
        }
      ]
    },
    {
      "cell_type": "markdown",
      "source": [
        "- View / Reshape\n",
        "  + data를 유지한 채 shape을 변형한다\n",
        "    * Pointer를 반환하므로 원본을 훼손하지 않으려면 복사본을 이용한다"
      ],
      "metadata": {
        "id": "PDpHqTSdslKN"
      }
    },
    {
      "cell_type": "code",
      "source": [
        "x = torch.rand(2, 3, 4)  # [2, 3, 4] \n",
        "y = x.view(2, -1)  # [2, 12] \n",
        "z = x.reshape(2, -1) # [2, 12]\n",
        "print(x)\n",
        "print(y)\n",
        "print(z)\n",
        "z[0] = 0.0\n",
        "print(x)"
      ],
      "metadata": {
        "colab": {
          "base_uri": "https://localhost:8080/"
        },
        "id": "9oJ5HxUvsjwu",
        "outputId": "db6bc5cb-4e4e-4a02-a460-0c4e5369401f"
      },
      "execution_count": 9,
      "outputs": [
        {
          "output_type": "stream",
          "name": "stdout",
          "text": [
            "tensor([[[0.8297, 0.8591, 0.7735, 0.3655],\n",
            "         [0.3587, 0.8606, 0.7557, 0.2772],\n",
            "         [0.7805, 0.8613, 0.4074, 0.9981]],\n",
            "\n",
            "        [[0.2399, 0.4030, 0.1161, 0.2514],\n",
            "         [0.1933, 0.0112, 0.9694, 0.7929],\n",
            "         [0.4007, 0.6157, 0.4498, 0.8142]]])\n",
            "tensor([[0.8297, 0.8591, 0.7735, 0.3655, 0.3587, 0.8606, 0.7557, 0.2772, 0.7805,\n",
            "         0.8613, 0.4074, 0.9981],\n",
            "        [0.2399, 0.4030, 0.1161, 0.2514, 0.1933, 0.0112, 0.9694, 0.7929, 0.4007,\n",
            "         0.6157, 0.4498, 0.8142]])\n",
            "tensor([[0.8297, 0.8591, 0.7735, 0.3655, 0.3587, 0.8606, 0.7557, 0.2772, 0.7805,\n",
            "         0.8613, 0.4074, 0.9981],\n",
            "        [0.2399, 0.4030, 0.1161, 0.2514, 0.1933, 0.0112, 0.9694, 0.7929, 0.4007,\n",
            "         0.6157, 0.4498, 0.8142]])\n",
            "tensor([[[0.0000, 0.0000, 0.0000, 0.0000],\n",
            "         [0.0000, 0.0000, 0.0000, 0.0000],\n",
            "         [0.0000, 0.0000, 0.0000, 0.0000]],\n",
            "\n",
            "        [[0.2399, 0.4030, 0.1161, 0.2514],\n",
            "         [0.1933, 0.0112, 0.9694, 0.7929],\n",
            "         [0.4007, 0.6157, 0.4498, 0.8142]]])\n"
          ]
        }
      ]
    },
    {
      "cell_type": "markdown",
      "source": [
        "- Squeeze\n",
        "  + 불필요한 rank를 줄인다"
      ],
      "metadata": {
        "id": "wttbVyMDsxoB"
      }
    },
    {
      "cell_type": "code",
      "source": [
        "_data = np.array([1,2,3,4])\n",
        "x = torch.from_numpy(_data)\n",
        "print(x)\n",
        "print(x.T)\n",
        "_data = np.array([_data])\n",
        "x = torch.from_numpy(_data)\n",
        "print(x)\n",
        "print(x.T)\n",
        "print(x.T.squeeze())"
      ],
      "metadata": {
        "colab": {
          "base_uri": "https://localhost:8080/"
        },
        "id": "7tQv6wn4swmW",
        "outputId": "76f53e55-a8cb-4842-8899-054eff8c1793"
      },
      "execution_count": 10,
      "outputs": [
        {
          "output_type": "stream",
          "name": "stdout",
          "text": [
            "tensor([1, 2, 3, 4])\n",
            "tensor([1, 2, 3, 4])\n",
            "tensor([[1, 2, 3, 4]])\n",
            "tensor([[1],\n",
            "        [2],\n",
            "        [3],\n",
            "        [4]])\n",
            "tensor([1, 2, 3, 4])\n"
          ]
        },
        {
          "output_type": "stream",
          "name": "stderr",
          "text": [
            "/usr/local/lib/python3.7/dist-packages/ipykernel_launcher.py:4: UserWarning: The use of `x.T` on tensors of dimension other than 2 to reverse their shape is deprecated and it will throw an error in a future release. Consider `x.mT` to transpose batches of matricesor `x.permute(*torch.arange(x.ndim - 1, -1, -1))` to reverse the dimensions of a tensor. (Triggered internally at  ../aten/src/ATen/native/TensorShape.cpp:2981.)\n",
            "  after removing the cwd from sys.path.\n"
          ]
        }
      ]
    },
    {
      "cell_type": "markdown",
      "source": [
        "### 3. Tensor Operations\n",
        "\n",
        "- 사칙연산 - 요소별(Element-wise) 연산"
      ],
      "metadata": {
        "id": "DAbYAJOzs7kB"
      }
    },
    {
      "cell_type": "code",
      "source": [
        "# 요소별 곱셈\n",
        "print(tensor)\n",
        "print(tensor3d)\n",
        "print(tensor * tensor3d)"
      ],
      "metadata": {
        "colab": {
          "base_uri": "https://localhost:8080/"
        },
        "id": "h-savuOUs7OB",
        "outputId": "00e6c723-39cb-42cd-fce1-047ac6e36a13"
      },
      "execution_count": 11,
      "outputs": [
        {
          "output_type": "stream",
          "name": "stdout",
          "text": [
            "tensor([1., 2., 3., 4.])\n",
            "tensor([[[ 1.,  2.,  3.,  4.],\n",
            "         [ 5.,  6.,  7.,  8.],\n",
            "         [ 9., 10., 11., 12.]],\n",
            "\n",
            "        [[13., 14., 15., 16.],\n",
            "         [17., 18., 19., 20.],\n",
            "         [21., 22., 23., 24.]]])\n",
            "tensor([[[ 1.,  4.,  9., 16.],\n",
            "         [ 5., 12., 21., 32.],\n",
            "         [ 9., 20., 33., 48.]],\n",
            "\n",
            "        [[13., 28., 45., 64.],\n",
            "         [17., 36., 57., 80.],\n",
            "         [21., 44., 69., 96.]]])\n"
          ]
        }
      ]
    },
    {
      "cell_type": "code",
      "source": [
        "# 상수 덧셈\n",
        "print(tensor3d + 3)"
      ],
      "metadata": {
        "colab": {
          "base_uri": "https://localhost:8080/"
        },
        "id": "_gNT5Epds6TR",
        "outputId": "0ca9faad-cc27-4005-deac-ecced69d4478"
      },
      "execution_count": 12,
      "outputs": [
        {
          "output_type": "stream",
          "name": "stdout",
          "text": [
            "tensor([[[ 4.,  5.,  6.,  7.],\n",
            "         [ 8.,  9., 10., 11.],\n",
            "         [12., 13., 14., 15.]],\n",
            "\n",
            "        [[16., 17., 18., 19.],\n",
            "         [20., 21., 22., 23.],\n",
            "         [24., 25., 26., 27.]]])\n"
          ]
        }
      ]
    },
    {
      "cell_type": "code",
      "source": [
        "# tensor 덧셈\n",
        "tensor_a = torch.FloatTensor([1, 2, 3, 4])\n",
        "tensor_b = torch.FloatTensor([[1], [2], [3]])\n",
        "tensor_c = torch.FloatTensor([[[1]],[[2]]])\n",
        "print(tensor3d)\n",
        "print(tensor3d + tensor_a)\n",
        "print(tensor3d + tensor_b)\n",
        "print(tensor3d + tensor_c)"
      ],
      "metadata": {
        "colab": {
          "base_uri": "https://localhost:8080/"
        },
        "id": "fhoBDxQStK-r",
        "outputId": "5ddeb175-1f18-442a-929b-6a4ac15ffd44"
      },
      "execution_count": 13,
      "outputs": [
        {
          "output_type": "stream",
          "name": "stdout",
          "text": [
            "tensor([[[ 1.,  2.,  3.,  4.],\n",
            "         [ 5.,  6.,  7.,  8.],\n",
            "         [ 9., 10., 11., 12.]],\n",
            "\n",
            "        [[13., 14., 15., 16.],\n",
            "         [17., 18., 19., 20.],\n",
            "         [21., 22., 23., 24.]]])\n",
            "tensor([[[ 2.,  4.,  6.,  8.],\n",
            "         [ 6.,  8., 10., 12.],\n",
            "         [10., 12., 14., 16.]],\n",
            "\n",
            "        [[14., 16., 18., 20.],\n",
            "         [18., 20., 22., 24.],\n",
            "         [22., 24., 26., 28.]]])\n",
            "tensor([[[ 2.,  3.,  4.,  5.],\n",
            "         [ 7.,  8.,  9., 10.],\n",
            "         [12., 13., 14., 15.]],\n",
            "\n",
            "        [[14., 15., 16., 17.],\n",
            "         [19., 20., 21., 22.],\n",
            "         [24., 25., 26., 27.]]])\n",
            "tensor([[[ 2.,  3.,  4.,  5.],\n",
            "         [ 6.,  7.,  8.,  9.],\n",
            "         [10., 11., 12., 13.]],\n",
            "\n",
            "        [[15., 16., 17., 18.],\n",
            "         [19., 20., 21., 22.],\n",
            "         [23., 24., 25., 26.]]])\n"
          ]
        }
      ]
    },
    {
      "cell_type": "markdown",
      "source": [
        "- Tensor transpose\n",
        "  + shape(2, 3, 4) >> shape(4, 3, 2)\n",
        "  + 3차원의 경우, 머릿속으로 상상하기 힘들다"
      ],
      "metadata": {
        "id": "WYHifq3RtOtO"
      }
    },
    {
      "cell_type": "code",
      "source": [
        "print(tensor3d)\n",
        "print(tensor3d.T)"
      ],
      "metadata": {
        "colab": {
          "base_uri": "https://localhost:8080/"
        },
        "id": "E95acXFBtMrh",
        "outputId": "542a93d9-2684-41f5-989f-cfdd80baa92c"
      },
      "execution_count": 14,
      "outputs": [
        {
          "output_type": "stream",
          "name": "stdout",
          "text": [
            "tensor([[[ 1.,  2.,  3.,  4.],\n",
            "         [ 5.,  6.,  7.,  8.],\n",
            "         [ 9., 10., 11., 12.]],\n",
            "\n",
            "        [[13., 14., 15., 16.],\n",
            "         [17., 18., 19., 20.],\n",
            "         [21., 22., 23., 24.]]])\n",
            "tensor([[[ 1., 13.],\n",
            "         [ 5., 17.],\n",
            "         [ 9., 21.]],\n",
            "\n",
            "        [[ 2., 14.],\n",
            "         [ 6., 18.],\n",
            "         [10., 22.]],\n",
            "\n",
            "        [[ 3., 15.],\n",
            "         [ 7., 19.],\n",
            "         [11., 23.]],\n",
            "\n",
            "        [[ 4., 16.],\n",
            "         [ 8., 20.],\n",
            "         [12., 24.]]])\n"
          ]
        }
      ]
    },
    {
      "cell_type": "markdown",
      "source": [
        "- Tensor dot product\n",
        "  + 마찬가지로 3차원의 경우, 머릿속으로 상상하기 힘들기 때문에 수식에 오류가 없음을 반드시 확인해야 한다\n",
        "  + shape(2,3,4) * shape(4) >> shape(2,3)"
      ],
      "metadata": {
        "id": "qwfIO1KLtaL0"
      }
    },
    {
      "cell_type": "code",
      "source": [
        "print(tensor3d.matmul(tensor))"
      ],
      "metadata": {
        "colab": {
          "base_uri": "https://localhost:8080/"
        },
        "id": "ehRFuWmotYqV",
        "outputId": "d1f72460-2673-4f7e-8b95-4de9c7f62566"
      },
      "execution_count": 15,
      "outputs": [
        {
          "output_type": "stream",
          "name": "stdout",
          "text": [
            "tensor([[ 30.,  70., 110.],\n",
            "        [150., 190., 230.]])\n"
          ]
        }
      ]
    },
    {
      "cell_type": "markdown",
      "source": [
        "- Mean, Sum, Max"
      ],
      "metadata": {
        "id": "fAAV8wmnto-2"
      }
    },
    {
      "cell_type": "code",
      "source": [
        "print(tensor3d)\n",
        "print(tensor3d.mean())\n",
        "print(tensor3d.shape)\n",
        "print(tensor3d.mean(dim=0))\n",
        "print(tensor3d.mean(dim=1))\n",
        "print(tensor3d.mean(dim=2))"
      ],
      "metadata": {
        "colab": {
          "base_uri": "https://localhost:8080/"
        },
        "id": "N5j5zBmwtnqk",
        "outputId": "e1601803-2ac4-4e27-888c-afa3426c0091"
      },
      "execution_count": 16,
      "outputs": [
        {
          "output_type": "stream",
          "name": "stdout",
          "text": [
            "tensor([[[ 1.,  2.,  3.,  4.],\n",
            "         [ 5.,  6.,  7.,  8.],\n",
            "         [ 9., 10., 11., 12.]],\n",
            "\n",
            "        [[13., 14., 15., 16.],\n",
            "         [17., 18., 19., 20.],\n",
            "         [21., 22., 23., 24.]]])\n",
            "tensor(12.5000)\n",
            "torch.Size([2, 3, 4])\n",
            "tensor([[ 7.,  8.,  9., 10.],\n",
            "        [11., 12., 13., 14.],\n",
            "        [15., 16., 17., 18.]])\n",
            "tensor([[ 5.,  6.,  7.,  8.],\n",
            "        [17., 18., 19., 20.]])\n",
            "tensor([[ 2.5000,  6.5000, 10.5000],\n",
            "        [14.5000, 18.5000, 22.5000]])\n"
          ]
        }
      ]
    },
    {
      "cell_type": "code",
      "source": [
        "print(tensor3d.sum())\n",
        "print(tensor3d.sum(dim=0))"
      ],
      "metadata": {
        "colab": {
          "base_uri": "https://localhost:8080/"
        },
        "id": "OnQuYXZKttG4",
        "outputId": "93ce7f69-0350-435e-f483-ac1b68bd99ab"
      },
      "execution_count": 17,
      "outputs": [
        {
          "output_type": "stream",
          "name": "stdout",
          "text": [
            "tensor(300.)\n",
            "tensor([[14., 16., 18., 20.],\n",
            "        [22., 24., 26., 28.],\n",
            "        [30., 32., 34., 36.]])\n"
          ]
        }
      ]
    },
    {
      "cell_type": "code",
      "source": [
        "print(tensor3d.max())\n",
        "print(tensor3d.max(dim=1))\n",
        "values, indices = tensor3d.max(dim=1)\n",
        "print(values)"
      ],
      "metadata": {
        "colab": {
          "base_uri": "https://localhost:8080/"
        },
        "id": "U_Q7DfMvtupo",
        "outputId": "6edf9a38-8241-4464-ea4a-e40509526903"
      },
      "execution_count": 18,
      "outputs": [
        {
          "output_type": "stream",
          "name": "stdout",
          "text": [
            "tensor(24.)\n",
            "torch.return_types.max(\n",
            "values=tensor([[ 9., 10., 11., 12.],\n",
            "        [21., 22., 23., 24.]]),\n",
            "indices=tensor([[2, 2, 2, 2],\n",
            "        [2, 2, 2, 2]]))\n",
            "tensor([[ 9., 10., 11., 12.],\n",
            "        [21., 22., 23., 24.]])\n"
          ]
        }
      ]
    },
    {
      "cell_type": "markdown",
      "source": [
        "- 역행렬"
      ],
      "metadata": {
        "id": "J3hdSvQstxBa"
      }
    },
    {
      "cell_type": "code",
      "source": [
        "tensor_square = torch.FloatTensor([[1, 7], [-4, 6]])\n",
        "print(torch.inverse(tensor_square))"
      ],
      "metadata": {
        "colab": {
          "base_uri": "https://localhost:8080/"
        },
        "id": "5oWMQQeStwJc",
        "outputId": "cfe4e82a-1395-46ed-e893-c210351b40ac"
      },
      "execution_count": 19,
      "outputs": [
        {
          "output_type": "stream",
          "name": "stdout",
          "text": [
            "tensor([[ 0.1765, -0.2059],\n",
            "        [ 0.1176,  0.0294]])\n"
          ]
        }
      ]
    },
    {
      "cell_type": "markdown",
      "source": [
        "### 4. 실습 (Assignment 6)\n",
        "- 행렬 방정식 풀기 (단, PyTorch만을 사용한다)\n",
        "  + 다음 행렬방정식을 'Pseudo inverse matrix'를 이용해 풀어보자\n",
        "  + $A^TA$의 역행렬이 존재한다고 가정\n",
        "  $$\n",
        "  Ax = B\n",
        "  $$\n",
        "\n",
        "  $$\n",
        "  A =\n",
        "\t\\begin{bmatrix} \n",
        "\t0 && 1 \\\\\n",
        "  1 && 1 \\\\\n",
        "  2 && 1 \\\\\n",
        "  3 && 1 \\\\\n",
        "\t\\end{bmatrix}\n",
        "\t$$\n",
        "\n",
        "  $$\n",
        "  B = \n",
        "  \\begin{bmatrix} \n",
        "\t-1 \\\\\n",
        "  0.2 \\\\\n",
        "  0.9 \\\\\n",
        "  2.1 \\\\\n",
        "\t\\end{bmatrix}\n",
        "  $$"
      ],
      "metadata": {
        "id": "eqfi8Wiht15c"
      }
    },
    {
      "cell_type": "code",
      "source": [
        "# imports\n",
        "import numpy as np\n",
        "import torch\n",
        "import torch.linalg as lin\n",
        "\n",
        "# Tensor 입력\n",
        "# 해가 되는 x는 empty tensor로 지정\n",
        "mat_a = torch.FloatTensor([[0, 1],\n",
        "                          [1, 1],\n",
        "                          [2, 1],\n",
        "                          [3, 1]])\n",
        "\n",
        "mat_x = torch.FloatTensor([[],\n",
        "                          [],\n",
        "                          [],\n",
        "                          []])\n",
        "\n",
        "mat_b = torch.FloatTensor([[-1],\n",
        "                          [0.2],\n",
        "                          [0.9],\n",
        "                          [2.1]])\n",
        "\n",
        "# Tensor 확인\n",
        "print(mat_a)\n",
        "print(mat_x)\n",
        "print(mat_b)\n",
        "\n",
        "# inverse A\n",
        "pinv_a = lin.pinv(mat_a)\n",
        "print(pinv_a)\n",
        "\n",
        "# B reshape\n",
        "reshaped_b = torch.FloatTensor(mat_b).reshape(4,1)\n",
        "print(reshaped_b)\n",
        "\n",
        "# Tensor 연산\n",
        "mat_x = torch.matmul(pinv_a, reshaped_b)\n",
        "\n",
        "# 결과 출력\n",
        "print(mat_x)"
      ],
      "metadata": {
        "colab": {
          "base_uri": "https://localhost:8080/"
        },
        "id": "QRoOg7OgwhrH",
        "outputId": "027cdfb7-7fd6-457a-8704-466cb24a0170"
      },
      "execution_count": 20,
      "outputs": [
        {
          "output_type": "stream",
          "name": "stdout",
          "text": [
            "tensor([[0., 1.],\n",
            "        [1., 1.],\n",
            "        [2., 1.],\n",
            "        [3., 1.]])\n",
            "tensor([], size=(4, 0))\n",
            "tensor([[-1.0000],\n",
            "        [ 0.2000],\n",
            "        [ 0.9000],\n",
            "        [ 2.1000]])\n",
            "tensor([[-0.3000, -0.1000,  0.1000,  0.3000],\n",
            "        [ 0.7000,  0.4000,  0.1000, -0.2000]])\n",
            "tensor([[-1.0000],\n",
            "        [ 0.2000],\n",
            "        [ 0.9000],\n",
            "        [ 2.1000]])\n",
            "tensor([[ 1.0000],\n",
            "        [-0.9500]])\n"
          ]
        }
      ]
    }
  ]
}