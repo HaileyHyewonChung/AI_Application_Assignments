{
  "nbformat": 4,
  "nbformat_minor": 0,
  "metadata": {
    "colab": {
      "provenance": [],
      "collapsed_sections": []
    },
    "kernelspec": {
      "name": "python3",
      "display_name": "Python 3"
    },
    "language_info": {
      "name": "python"
    }
  },
  "cells": [
    {
      "cell_type": "markdown",
      "source": [
        "# Multinomial Classification\n",
        "\n",
        "### Imports"
      ],
      "metadata": {
        "id": "_QW0XPeoeAEZ"
      }
    },
    {
      "cell_type": "code",
      "source": [
        "import numpy as np\n",
        "import torch\n",
        "import torch.nn as nn\n",
        "import torch.nn.functional as func\n",
        "import torch.optim as opt\n",
        "\n",
        "from google.colab import drive\n",
        "drive.mount('/content/drive')\n",
        "\n",
        "# Seed 고정\n",
        "torch.manual_seed(1)"
      ],
      "metadata": {
        "colab": {
          "base_uri": "https://localhost:8080/"
        },
        "id": "xwlJd-X-eECc",
        "outputId": "f17b00fa-494e-4fad-d0bd-d9c7f9ff7307"
      },
      "execution_count": null,
      "outputs": [
        {
          "output_type": "stream",
          "name": "stdout",
          "text": [
            "Mounted at /content/drive\n"
          ]
        },
        {
          "output_type": "execute_result",
          "data": {
            "text/plain": [
              "<torch._C.Generator at 0x7f0f304ed790>"
            ]
          },
          "metadata": {},
          "execution_count": 1
        }
      ]
    },
    {
      "cell_type": "markdown",
      "source": [
        "### 1.Data loading\n",
        "\n",
        "|$x_1$|$x_2$|$x_3$|$x_4$|$y$|\n",
        "|:---:|:---:|:---:|:---:|:---:|\n",
        "|1|2|1|1|2|\n",
        "|2|1|3|2|2|\n",
        "|3|1|3|4|2|\n",
        "|4|1|5|5|1|\n",
        "|1|7|5|5|1|\n",
        "|1|2|5|6|1|\n",
        "|1|6|6|6|0|\n",
        "|1|7|7|7|0|\n",
        "\n"
      ],
      "metadata": {
        "id": "2ODEY5LMeW0W"
      }
    },
    {
      "cell_type": "code",
      "source": [
        "# Data 수동으로 입력하기\n",
        "x_train = torch.FloatTensor([[1, 2, 1, 1], [2, 1, 3, 2], [3, 1, 3, 4], [4, 1, 5, 5],\n",
        "               [1, 7, 5, 5], [1, 2, 5, 6], [1, 6, 6, 6], [1, 7, 7, 7]])\n",
        "y_train = torch.LongTensor([2, 2, 2, 1, 1, 1, 0, 0])\n",
        "\n",
        "print(x_train)\n",
        "print(x_train.shape)\n",
        "print(y_train)\n",
        "print(y_train.shape)\n",
        "\n",
        "# Model 초기화 (입력 dim, 출력 dim)\n",
        "model = nn.Linear(4, 3)"
      ],
      "metadata": {
        "colab": {
          "base_uri": "https://localhost:8080/"
        },
        "id": "G0fvvssveWjX",
        "outputId": "9c66f63f-a1a7-47ee-d8c9-3281d42ba68f"
      },
      "execution_count": null,
      "outputs": [
        {
          "output_type": "stream",
          "name": "stdout",
          "text": [
            "tensor([[1., 2., 1., 1.],\n",
            "        [2., 1., 3., 2.],\n",
            "        [3., 1., 3., 4.],\n",
            "        [4., 1., 5., 5.],\n",
            "        [1., 7., 5., 5.],\n",
            "        [1., 2., 5., 6.],\n",
            "        [1., 6., 6., 6.],\n",
            "        [1., 7., 7., 7.]])\n",
            "torch.Size([8, 4])\n",
            "tensor([2, 2, 2, 1, 1, 1, 0, 0])\n",
            "torch.Size([8])\n"
          ]
        }
      ]
    },
    {
      "cell_type": "markdown",
      "source": [
        "### 2. Hypothesis, Cost and Optimization\n",
        "\n",
        "- 다음 수식이 맞다고 가정한다\n",
        "\n",
        "$$ y_{hypo} = H(x) = Softmax(Lienar(x)) $$\n",
        "\n",
        "$$ Linear(x) = W ⋅ x + b $$\n",
        "\n",
        "$$ Softmax(X) = \n",
        "\\begin{bmatrix} \n",
        "y_1 & ⃛ & y_C \\\\ \n",
        "\\end{bmatrix}\n",
        "\\quad\n",
        ",\n",
        "y_i = \\frac{e^{x_i}}{∑\\limits_{j=1}^{C}e^{x_j}}$$\n",
        "\n",
        "- Cost function으로 Cross Entropy를 이용한다\n",
        "\n",
        "$$ -∑\\limits_{i=1}^{C}y_{train,i}log(y_{hypo,i}) $$\n",
        "\n",
        "- Pytorch의 cross entropy loss function에는 softmax가 이미 포함되어 있음에 주의!\n",
        "\n",
        "  + 그렇기 때문에, model을 그냥 linear model을 사용한다!\n",
        "  +$ y_{train} $ 입력 형태는 class의 index이다 (onehot encoding을 해줄 필요 없다)"
      ],
      "metadata": {
        "id": "Tt_sAr5de_ME"
      }
    },
    {
      "cell_type": "code",
      "source": [
        "# Optimizer 설정 (learning rate = 1로 설정)\n",
        "optimizer = opt.SGD(model.parameters(), lr=0.1)\n",
        "\n",
        "# 반복\n",
        "for epoch in range(1000):\n",
        "\n",
        "  # Cost 계산 / mse_loss(가정에의한값, 참값)\n",
        "  y_hypo = model(x_train)\n",
        "  cost = func.cross_entropy(y_hypo, y_train)\n",
        "\n",
        "  # cost를 이용해 model update\n",
        "  optimizer.zero_grad()\n",
        "  cost.backward()\n",
        "  optimizer.step()\n",
        "\n",
        "  # 10번 마다 중간결과 출력\n",
        "  if epoch % 100 == 99:\n",
        "    correct_prediction = y_hypo.argmax(dim=1) == y_train\n",
        "    accuracy = correct_prediction.sum().item() / len(correct_prediction)\n",
        "    print('Epoch {:4d}/{} Cost: {:.6f} Accuracy {:2.2f}%'.format(\n",
        "            epoch, 1000, cost.item(), accuracy * 100,\n",
        "    ))"
      ],
      "metadata": {
        "colab": {
          "base_uri": "https://localhost:8080/"
        },
        "id": "_NpghPkzeWAT",
        "outputId": "819450e2-ac4e-405e-8ae6-c5b7ef392863"
      },
      "execution_count": null,
      "outputs": [
        {
          "output_type": "stream",
          "name": "stdout",
          "text": [
            "Epoch   99/1000 Cost: 0.714870 Accuracy 75.00%\n",
            "Epoch  199/1000 Cost: 0.633744 Accuracy 62.50%\n",
            "Epoch  299/1000 Cost: 0.576285 Accuracy 62.50%\n",
            "Epoch  399/1000 Cost: 0.525853 Accuracy 87.50%\n",
            "Epoch  499/1000 Cost: 0.478306 Accuracy 87.50%\n",
            "Epoch  599/1000 Cost: 0.432054 Accuracy 87.50%\n",
            "Epoch  699/1000 Cost: 0.386326 Accuracy 87.50%\n",
            "Epoch  799/1000 Cost: 0.340779 Accuracy 87.50%\n",
            "Epoch  899/1000 Cost: 0.295738 Accuracy 87.50%\n",
            "Epoch  999/1000 Cost: 0.255138 Accuracy 100.00%\n"
          ]
        }
      ]
    },
    {
      "cell_type": "markdown",
      "source": [
        "### 3. Assignment\n",
        "\n",
        "- Data 파일을 이용한 Multinomial Classification\n",
        "  + data_multinomial_classification.csv을 이용해 학습한다\n",
        "    * 16개의 input, 1개의 output\n",
        "\n",
        "$$\n",
        "\\begin{bmatrix}\n",
        "x_1 & ⃛ & x_{16}, y \\\\\n",
        "\\end{bmatrix}\n",
        "$$\n",
        "\n",
        "- Accuracy 95% 이상을 달성한다"
      ],
      "metadata": {
        "id": "F8Ggbby8hdWq"
      }
    },
    {
      "cell_type": "code",
      "source": [
        "#dataset 불러오기 (구글 드라이브 사용)\n",
        "dataset = np.loadtxt(\n",
        "    '/content/drive/MyDrive/Colab Notebooks/data_multinomial_classification.csv', \n",
        "    delimiter=',', \n",
        "    dtype=np.float32)\n",
        "\n",
        "# Dataset의 순서를 random으로 섞기\n",
        "np.random.shuffle(dataset)"
      ],
      "metadata": {
        "id": "7Zf7VFuqhcXG"
      },
      "execution_count": 4,
      "outputs": []
    },
    {
      "cell_type": "code",
      "source": [
        "# torch tensor로 변환\n",
        "x_train = torch.FloatTensor(dataset[:,:-1])\n",
        "y_train = torch.LongTensor(dataset[:,-1])\n",
        "# longtensor -> crossentropy에서 float 안받음"
      ],
      "metadata": {
        "id": "_uwRs68T5Ya5"
      },
      "execution_count": 6,
      "outputs": []
    },
    {
      "cell_type": "code",
      "source": [
        "# Model 초기화 (입력 dim, 출력 dim)\n",
        "model = nn.Linear(16, 7)\n",
        "\n",
        "# Optimizer 설정 (learning rate = 1로 설정)\n",
        "optimizer = opt.SGD(model.parameters(), lr=0.1)\n",
        "\n",
        "# 반복\n",
        "for epoch in range(1000):\n",
        "\n",
        "  # Cost 계산 / mse_loss(가정에의한값, 참값)\n",
        "  y_hypo = model(x_train)\n",
        "  cost = func.cross_entropy(y_hypo, y_train)\n",
        "\n",
        "  # cost를 이용해 model update\n",
        "  optimizer.zero_grad()\n",
        "  cost.backward()\n",
        "  optimizer.step()\n",
        "\n",
        "  # 10번 마다 중간결과 출력\n",
        "  if epoch % 100 == 99:\n",
        "    correct_prediction = y_hypo.argmax(dim=1) == y_train\n",
        "    accuracy = correct_prediction.sum().item() / len(correct_prediction)\n",
        "    print('Epoch {:4d}/{} Cost: {:.6f} Accuracy {:2.2f}%'.format(\n",
        "            epoch, 1000, cost.item(), accuracy * 100,\n",
        "    ))"
      ],
      "metadata": {
        "colab": {
          "base_uri": "https://localhost:8080/"
        },
        "id": "G152KWAw5obu",
        "outputId": "f152219d-350c-4d67-c049-0e9c1daa09bd"
      },
      "execution_count": 7,
      "outputs": [
        {
          "output_type": "stream",
          "name": "stdout",
          "text": [
            "Epoch   99/1000 Cost: 0.469938 Accuracy 89.11%\n",
            "Epoch  199/1000 Cost: 0.317336 Accuracy 93.07%\n",
            "Epoch  299/1000 Cost: 0.245835 Accuracy 95.05%\n",
            "Epoch  399/1000 Cost: 0.202133 Accuracy 96.04%\n",
            "Epoch  499/1000 Cost: 0.172118 Accuracy 97.03%\n",
            "Epoch  599/1000 Cost: 0.150037 Accuracy 100.00%\n",
            "Epoch  699/1000 Cost: 0.133041 Accuracy 100.00%\n",
            "Epoch  799/1000 Cost: 0.119530 Accuracy 100.00%\n",
            "Epoch  899/1000 Cost: 0.108523 Accuracy 100.00%\n",
            "Epoch  999/1000 Cost: 0.099384 Accuracy 100.00%\n"
          ]
        }
      ]
    }
  ]
}