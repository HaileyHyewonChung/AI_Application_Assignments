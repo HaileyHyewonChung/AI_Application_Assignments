{
  "nbformat": 4,
  "nbformat_minor": 0,
  "metadata": {
    "colab": {
      "provenance": []
    },
    "kernelspec": {
      "name": "python3",
      "display_name": "Python 3"
    },
    "language_info": {
      "name": "python"
    }
  },
  "cells": [
    {
      "cell_type": "markdown",
      "source": [
        "# 3. Data를 묶음으로 다루기\n",
        "### 3.1 리스트\n",
        "- 리스트(List)는 여러 데이터를 1열로 세워 묶은 형태이다.\n",
        "- 리스트는 시작과 끝은 `[]` 로 표현하고, 서로 다른 데이터 타입도 묶을 수 있다. (데이터 타입의 종류는 다음 장에서 좀 더 자세히 다룬다.)"
      ],
      "metadata": {
        "id": "spfqr-rxzaB1"
      }
    },
    {
      "cell_type": "code",
      "source": [
        "list_mixed = [0, 2.5, 'abc']"
      ],
      "metadata": {
        "id": "KP7H_DoxhF5q"
      },
      "execution_count": null,
      "outputs": []
    },
    {
      "cell_type": "markdown",
      "source": [
        "- 리스트는 다음과 같이 여러가지 방법으로 생성할 수 있다."
      ],
      "metadata": {
        "id": "Mal8bf15hUda"
      }
    },
    {
      "cell_type": "code",
      "source": [
        "# 비어있는 리스트 생성\n",
        "empty_list = []\n",
        "print(empty_list)"
      ],
      "metadata": {
        "colab": {
          "base_uri": "https://localhost:8080/"
        },
        "id": "KoijBcHDhTKD",
        "outputId": "428f9900-b1fb-4620-9289-c6472815bf3d"
      },
      "execution_count": null,
      "outputs": [
        {
          "output_type": "stream",
          "name": "stdout",
          "text": [
            "[]\n"
          ]
        }
      ]
    },
    {
      "cell_type": "code",
      "source": [
        "# 직접 입력해서 생성\n",
        "list_manual = [0, 1, 2, 3, 4]\n",
        "print(list_manual)"
      ],
      "metadata": {
        "colab": {
          "base_uri": "https://localhost:8080/"
        },
        "id": "fa_zrhT0hhCA",
        "outputId": "0e14b9aa-27ac-4460-9594-4021165a4ad7"
      },
      "execution_count": null,
      "outputs": [
        {
          "output_type": "stream",
          "name": "stdout",
          "text": [
            "[0, 1, 2, 3, 4]\n"
          ]
        }
      ]
    },
    {
      "cell_type": "code",
      "source": [
        "# range 함수를 이용한 생성 (이하 A, B, C 모두 정수)\n",
        "# range(B) - 0부터 1의 간격으로 B보다 작은 정수까지 리스트 생성\n",
        "list_new = list(range(10))\n",
        "print(list_new)\n",
        "\n",
        "# range(A, B) - A부터 시작해 1의 간격으로 B보다 작은 정수까지 리스트 생성\n",
        "list_new = list(range(1, 10))\n",
        "print(list_new)\n",
        "\n",
        "# range(A, B, C) - A부터 시작해 C의 간격으로 B보다 작은 정수까지 리스트 생성 (C가 음수일 경우 뒤에서부터)\n",
        "list_new = list(range(2, 10, 2))\n",
        "print(list_new)"
      ],
      "metadata": {
        "colab": {
          "base_uri": "https://localhost:8080/"
        },
        "id": "82CD6gdmhnnn",
        "outputId": "cf1ec774-f375-4d88-d2db-a0dd807a7f41"
      },
      "execution_count": null,
      "outputs": [
        {
          "output_type": "stream",
          "name": "stdout",
          "text": [
            "[0, 1, 2, 3, 4, 5, 6, 7, 8, 9]\n",
            "[1, 2, 3, 4, 5, 6, 7, 8, 9]\n",
            "[2, 4, 6, 8]\n"
          ]
        }
      ]
    },
    {
      "cell_type": "markdown",
      "source": [
        "- 리스트에 `+` 연산과 `*` 연산은 조금 특별하게 동작한다.\n",
        "  + `+` 연산은 좌우의 리스트를 이어 붙인다.\n",
        "  + `*` 연산은 `*` 왼쪽의 리스트를 오른쪽의 숫자만큼 반복해서 붙인다."
      ],
      "metadata": {
        "id": "AtGX258BiRp0"
      }
    },
    {
      "cell_type": "code",
      "source": [
        "# 리스트에서 + 연산과 * 연산\n",
        "list_manual = [0, 1, 2, 3, 4]\n",
        "list_new = list(range(4, -1, -1))\n",
        "print(list_manual + list_new)\n",
        "print(list_manual * 2)"
      ],
      "metadata": {
        "id": "g-kdF0u2iQYH"
      },
      "execution_count": null,
      "outputs": []
    },
    {
      "cell_type": "markdown",
      "source": [
        "- 리스트는 다음 예시와 같이 기본 제공되는 함수를 이용해 수정할 수 있다."
      ],
      "metadata": {
        "id": "E9ahlgeYiuye"
      }
    },
    {
      "cell_type": "code",
      "source": [
        "# list의 맨 뒤에 원소 추가하기\n",
        "list_manual = [0, 1, 2, 3, 4]\n",
        "list_manual.append(5)\n",
        "print(list_manual)"
      ],
      "metadata": {
        "colab": {
          "base_uri": "https://localhost:8080/"
        },
        "id": "-Mor5asMiudC",
        "outputId": "2a91fd9e-f4eb-4273-869a-934d089d9f48"
      },
      "execution_count": null,
      "outputs": [
        {
          "output_type": "stream",
          "name": "stdout",
          "text": [
            "[0, 1, 2, 3, 4, 5]\n"
          ]
        }
      ]
    },
    {
      "cell_type": "code",
      "source": [
        "# list의 원하는 위치에 원소 추가하기\n",
        "# insert(position, value) 참고로 시작위치의 값은 0\n",
        "list_manual.insert(2, 10)\n",
        "print(list_manual)"
      ],
      "metadata": {
        "colab": {
          "base_uri": "https://localhost:8080/"
        },
        "id": "A0PmQdvTi71s",
        "outputId": "3df62050-009d-4dd8-95a9-a1d72b570055"
      },
      "execution_count": null,
      "outputs": [
        {
          "output_type": "stream",
          "name": "stdout",
          "text": [
            "[0, 1, 10, 10, 2, 3, 4, 5]\n"
          ]
        }
      ]
    },
    {
      "cell_type": "code",
      "source": [
        "# list의 맨 뒤에 원소 제거하기\n",
        "list_manual.pop()\n",
        "print(list_manual)"
      ],
      "metadata": {
        "colab": {
          "base_uri": "https://localhost:8080/"
        },
        "id": "onj7ndP6jQ4f",
        "outputId": "66640d95-565a-426e-a1e5-4b8f151d58dd"
      },
      "execution_count": null,
      "outputs": [
        {
          "output_type": "stream",
          "name": "stdout",
          "text": [
            "[0, 1, 10, 10, 2, 3, 4]\n"
          ]
        }
      ]
    },
    {
      "cell_type": "code",
      "source": [
        "# list의 원하는 위치에 원소 제거하기\n",
        "# pop(position)\n",
        "list_manual.pop(2)\n",
        "print(list_manual)"
      ],
      "metadata": {
        "id": "eRIdrHSDjXYJ"
      },
      "execution_count": null,
      "outputs": []
    },
    {
      "cell_type": "markdown",
      "source": [
        "- 그 외 여러 가지 편리한 함수들이 기본으로 제공된다."
      ],
      "metadata": {
        "id": "MPUW6HiNjhr4"
      }
    },
    {
      "cell_type": "code",
      "source": [
        "# list의 원소 개수 세기\n",
        "num_data = len(list_manual)\n",
        "print(num_data)"
      ],
      "metadata": {
        "colab": {
          "base_uri": "https://localhost:8080/"
        },
        "id": "07GTWFnMjhZX",
        "outputId": "786b2e49-7773-436e-828c-f0fa35feae74"
      },
      "execution_count": null,
      "outputs": [
        {
          "output_type": "stream",
          "name": "stdout",
          "text": [
            "7\n"
          ]
        }
      ]
    },
    {
      "cell_type": "code",
      "source": [
        "# 원소의 위치 찾기 (처음으로 발견된 원소의 위치 반환)\n",
        "position = list_manual.index(2)\n",
        "print(position)"
      ],
      "metadata": {
        "colab": {
          "base_uri": "https://localhost:8080/"
        },
        "id": "IWkDP-2Ljq_G",
        "outputId": "1db61ea8-4289-4aed-fd78-74f5571ae608"
      },
      "execution_count": null,
      "outputs": [
        {
          "output_type": "stream",
          "name": "stdout",
          "text": [
            "4\n"
          ]
        }
      ]
    },
    {
      "cell_type": "code",
      "source": [
        "# list 크기순으로 정렬하기 (기본 오름차순)\n",
        "list_manual.sort()\n",
        "print(list_manual)\n",
        "list_manual.sort(reverse = True)\n",
        "print(list_manual)"
      ],
      "metadata": {
        "colab": {
          "base_uri": "https://localhost:8080/"
        },
        "id": "NmIVPo4tjx2i",
        "outputId": "d8eaee41-6792-4c06-a47d-42f4ae50394e"
      },
      "execution_count": null,
      "outputs": [
        {
          "output_type": "stream",
          "name": "stdout",
          "text": [
            "[0, 1, 2, 3, 4, 10, 10]\n",
            "[10, 10, 4, 3, 2, 1, 0]\n"
          ]
        }
      ]
    },
    {
      "cell_type": "code",
      "source": [
        "# 원하는 부위 잘라내기 (슬라이싱)\n",
        "# 하나만 선택해 반환하기\n",
        "print(list_manual[2])"
      ],
      "metadata": {
        "colab": {
          "base_uri": "https://localhost:8080/"
        },
        "id": "CnnmdRMekCVc",
        "outputId": "a0a633b3-36a2-4fe1-ee18-7c4292d299a2"
      },
      "execution_count": null,
      "outputs": [
        {
          "output_type": "stream",
          "name": "stdout",
          "text": [
            "4\n"
          ]
        }
      ]
    },
    {
      "cell_type": "code",
      "source": [
        "# [A:B] A 위치부터, B보다 '작은' 위치까지 선택\n",
        "# [2:4] = 2,3의 위치 선택\n",
        "print(list_manual[2:4])"
      ],
      "metadata": {
        "colab": {
          "base_uri": "https://localhost:8080/"
        },
        "id": "hSasrPPxkLKz",
        "outputId": "35c7720f-91e6-4c7c-ba49-774e030e1f33"
      },
      "execution_count": null,
      "outputs": [
        {
          "output_type": "stream",
          "name": "stdout",
          "text": [
            "[4, 3]\n"
          ]
        }
      ]
    },
    {
      "cell_type": "code",
      "source": [
        "# [A:] A위치부터, 끝까지\n",
        "# [:B] 시작부터, B보다 '작은' 위치까지 선택\n",
        "print(list_manual[2:])\n",
        "print(list_manual[:4])"
      ],
      "metadata": {
        "colab": {
          "base_uri": "https://localhost:8080/"
        },
        "id": "ASJq2l0IkVDx",
        "outputId": "37d17abf-b214-4656-f763-c107b7a5d5b2"
      },
      "execution_count": null,
      "outputs": [
        {
          "output_type": "stream",
          "name": "stdout",
          "text": [
            "[4, 3, 2, 1, 0]\n",
            "[10, 10, 4, 3]\n"
          ]
        }
      ]
    },
    {
      "cell_type": "code",
      "source": [
        "# [-A] 맨 뒤에서부터 A번째\n",
        "print(list_manual[-2])"
      ],
      "metadata": {
        "id": "sAC38BULki-y"
      },
      "execution_count": null,
      "outputs": []
    },
    {
      "cell_type": "markdown",
      "source": [
        "### 3.2 튜플\n",
        "- 튜플(Tuple)는 List와 같지만 한 번 선언하면, 이후 수정이 불가능한 묶음이다.\n",
        "- 튜플의 시작과 끝은 `( )` 기호로 표현하고, 나머지는 리스트와 같다."
      ],
      "metadata": {
        "id": "2i9O5uJdkr79"
      }
    },
    {
      "cell_type": "code",
      "source": [
        "# 비어있는 튜플 생성 = 하지만 수정이 안되기 때문에 사실상 의미가 없다.\n",
        "empty_tuple = ()\n",
        "print(empty_tuple)"
      ],
      "metadata": {
        "colab": {
          "base_uri": "https://localhost:8080/"
        },
        "id": "6ozJtKRYkrcW",
        "outputId": "e57821ad-0873-426c-eac4-16540d3428dd"
      },
      "execution_count": null,
      "outputs": [
        {
          "output_type": "stream",
          "name": "stdout",
          "text": [
            "()\n"
          ]
        }
      ]
    },
    {
      "cell_type": "code",
      "source": [
        "# 직접 입력해서 생성\n",
        "tuple_manual = (0, 1, 2, 3, 4)\n",
        "print(tuple_manual)"
      ],
      "metadata": {
        "id": "FbPBNW-KlBYW"
      },
      "execution_count": null,
      "outputs": []
    },
    {
      "cell_type": "markdown",
      "source": [
        "- 수정과 관련된 함수를 제외한, 나머지 제공 함수들은 리스트와 거의 같다."
      ],
      "metadata": {
        "id": "lLRXTzbClJEi"
      }
    },
    {
      "cell_type": "code",
      "source": [
        "tuple_manual = (0, 1, 2, 3, 4)\n",
        "len(tuple_manual)"
      ],
      "metadata": {
        "colab": {
          "base_uri": "https://localhost:8080/"
        },
        "id": "f2OEYL_blN2y",
        "outputId": "361c4423-6b38-44e0-b385-91e4fff5d84c"
      },
      "execution_count": null,
      "outputs": [
        {
          "output_type": "execute_result",
          "data": {
            "text/plain": [
              "5"
            ]
          },
          "metadata": {},
          "execution_count": 18
        }
      ]
    },
    {
      "cell_type": "code",
      "source": [
        "tuple_manual.index(4)"
      ],
      "metadata": {
        "colab": {
          "base_uri": "https://localhost:8080/"
        },
        "id": "t3F_sIQrlWq0",
        "outputId": "ef261403-5ea8-4fe5-e869-41bc35780b11"
      },
      "execution_count": null,
      "outputs": [
        {
          "output_type": "execute_result",
          "data": {
            "text/plain": [
              "4"
            ]
          },
          "metadata": {},
          "execution_count": 19
        }
      ]
    },
    {
      "cell_type": "code",
      "source": [
        "tuple_manual[1:]"
      ],
      "metadata": {
        "colab": {
          "base_uri": "https://localhost:8080/"
        },
        "id": "o49Ql0Dhlaj6",
        "outputId": "a9f32676-4525-409a-8dee-933da7507f89"
      },
      "execution_count": null,
      "outputs": [
        {
          "output_type": "execute_result",
          "data": {
            "text/plain": [
              "(1, 2, 3, 4)"
            ]
          },
          "metadata": {},
          "execution_count": 20
        }
      ]
    },
    {
      "cell_type": "markdown",
      "source": [
        "### 3.3 세트\n",
        "- 세트(Set)도 List와 유사하지만, 원소의 중복을 허용하지 않는다는 점이 다르다.\n",
        "- 세트의 시작과 끝은 `{ }` 기호로 표현하고, 나머지는 리스트와 같다."
      ],
      "metadata": {
        "id": "h8VH3W2xlfzB"
      }
    },
    {
      "cell_type": "code",
      "source": [
        "# 비어있는 세트 생성\n",
        "empty_set = {}\n",
        "print(empty_set)"
      ],
      "metadata": {
        "colab": {
          "base_uri": "https://localhost:8080/"
        },
        "id": "MOPuk7oUlrMV",
        "outputId": "729d1792-9733-4140-bdef-f4c4a8529c98"
      },
      "execution_count": null,
      "outputs": [
        {
          "output_type": "stream",
          "name": "stdout",
          "text": [
            "{}\n"
          ]
        }
      ]
    },
    {
      "cell_type": "code",
      "source": [
        "# 직접 입력해서 생성 - 중복원소는 제거된다.\n",
        "set_manual = {0, 1, 2, 3, 4, 4, 3, 2, 1, 0}\n",
        "print(set_manual)"
      ],
      "metadata": {
        "colab": {
          "base_uri": "https://localhost:8080/"
        },
        "id": "sq2DBBEwlwpv",
        "outputId": "3e00a9b8-5484-4b56-c8ac-551c7a1ac6eb"
      },
      "execution_count": null,
      "outputs": [
        {
          "output_type": "stream",
          "name": "stdout",
          "text": [
            "{0, 1, 2, 3, 4}\n"
          ]
        }
      ]
    },
    {
      "cell_type": "code",
      "source": [
        "# range 함수를 이용한 생성 (이하 A, B, C 모두 정수)'\n",
        "print(set(range(2, 10, 2)))"
      ],
      "metadata": {
        "id": "HzokeiYQl6Yx"
      },
      "execution_count": null,
      "outputs": []
    },
    {
      "cell_type": "markdown",
      "source": [
        "- 세트는 즉 집합이므로, 수학에서의 집합과 관련된 연산 기능도 대부분 제공된다.\n",
        "- 예를 들어,"
      ],
      "metadata": {
        "id": "Sk4l5tfPmGTM"
      }
    },
    {
      "cell_type": "code",
      "source": [
        "# 교집합 '&'\n",
        "set_first = {1, 3, 5}\n",
        "set_second = {1, 2, 4, 8}\n",
        "print(set_first & set_second)"
      ],
      "metadata": {
        "colab": {
          "base_uri": "https://localhost:8080/"
        },
        "id": "28BoPlalmNjd",
        "outputId": "df4523d0-71a2-4ead-d33d-7d4481b11933"
      },
      "execution_count": null,
      "outputs": [
        {
          "output_type": "stream",
          "name": "stdout",
          "text": [
            "{1}\n"
          ]
        }
      ]
    },
    {
      "cell_type": "code",
      "source": [
        "# 합집합 '|'\n",
        "print(set_first | set_second)"
      ],
      "metadata": {
        "colab": {
          "base_uri": "https://localhost:8080/"
        },
        "id": "K6WuXchQmX-1",
        "outputId": "8635a078-806a-44d7-bc09-4956c50495e3"
      },
      "execution_count": null,
      "outputs": [
        {
          "output_type": "stream",
          "name": "stdout",
          "text": [
            "{1, 2, 3, 4, 5, 8}\n"
          ]
        }
      ]
    },
    {
      "cell_type": "code",
      "source": [
        "# 차집합 '-'\n",
        "print(set_first - set_second)"
      ],
      "metadata": {
        "colab": {
          "base_uri": "https://localhost:8080/"
        },
        "id": "RlR7F7kVme9E",
        "outputId": "5b418f04-76fc-4e1d-8861-e3c10cf7f03b"
      },
      "execution_count": null,
      "outputs": [
        {
          "output_type": "stream",
          "name": "stdout",
          "text": [
            "{3, 5}\n"
          ]
        }
      ]
    },
    {
      "cell_type": "code",
      "source": [
        "# 부분집합 여부 확인\n",
        "# A.issuperset(B) - B가 A의 부분집합인지 여부 (A가 B를 포함하는지 여부)\n",
        "set_third = {1, 3, 5, 7}\n",
        "set_third.issuperset(set_first)"
      ],
      "metadata": {
        "colab": {
          "base_uri": "https://localhost:8080/"
        },
        "id": "p5iVqEZsml88",
        "outputId": "6fe28c56-7db5-438a-d5f1-a4e658b2e861"
      },
      "execution_count": null,
      "outputs": [
        {
          "output_type": "execute_result",
          "data": {
            "text/plain": [
              "True"
            ]
          },
          "metadata": {},
          "execution_count": 26
        }
      ]
    },
    {
      "cell_type": "code",
      "source": [
        "# 원소 여부 확인\n",
        "in set_first"
      ],
      "metadata": {
        "id": "BM9PgdwWm07N"
      },
      "execution_count": null,
      "outputs": []
    },
    {
      "cell_type": "markdown",
      "source": [
        "### 3.4 딕셔너리\n",
        "- 딕셔너리(Dictionary)는 List와 유사하지만, 위치(index)가 정수가 아닌 'key'라는 임의의 값으로\n",
        "1. 항목 추가\n",
        "2. 항목 추가\n",
        "관리된다.\n",
        "- 딕셔너리의 시작과 끝은 `{ }` 기호로 세트와 표현방법이 같지만, 각 원소가 'key:value'의 형태로 저장된다."
      ],
      "metadata": {
        "id": "Yd50USNHm4U1"
      }
    },
    {
      "cell_type": "code",
      "source": [
        "my_dictionary = {'name':'John', 'age':15, 'height':1.76}\n",
        "print(my_dictionary)"
      ],
      "metadata": {
        "colab": {
          "base_uri": "https://localhost:8080/"
        },
        "id": "4eufOaAsnOml",
        "outputId": "dc8a8803-5208-4d9c-edae-5674f0189e4f"
      },
      "execution_count": null,
      "outputs": [
        {
          "output_type": "stream",
          "name": "stdout",
          "text": [
            "{'name': 'John', 'age': 15, 'height': 1.76}\n"
          ]
        }
      ]
    },
    {
      "cell_type": "markdown",
      "source": [
        "- 선택 방법 역시 List와 유사하지만 위치(index) 대신 'key'로 접근한다."
      ],
      "metadata": {
        "id": "TjAuAUL_na-x"
      }
    },
    {
      "cell_type": "code",
      "source": [
        "my_dictionary['name']"
      ],
      "metadata": {
        "colab": {
          "base_uri": "https://localhost:8080/",
          "height": 35
        },
        "id": "G_-2Lga9ngqy",
        "outputId": "15032351-a6d7-470a-e997-476b8187c9eb"
      },
      "execution_count": null,
      "outputs": [
        {
          "output_type": "execute_result",
          "data": {
            "text/plain": [
              "'John'"
            ],
            "application/vnd.google.colaboratory.intrinsic+json": {
              "type": "string"
            }
          },
          "metadata": {},
          "execution_count": 29
        }
      ]
    },
    {
      "cell_type": "markdown",
      "source": [
        "- 당연히, 딕셔너리가 리스트의 원소가 될 수 있고, 그 반대도 가능하다."
      ],
      "metadata": {
        "id": "ler93-4Zno3x"
      }
    },
    {
      "cell_type": "code",
      "source": [
        "first_user = {'name':'John', 'age':15, 'height':1.76, 'position':[15,3]}\n",
        "second_user = {'name':'Paul', 'age':17, 'height':1.88, 'position':[-2,7]}\n",
        "users = [first_user, second_user]\n",
        "print(users[0]['name'])"
      ],
      "metadata": {
        "id": "RCK-MYSVnkG2"
      },
      "execution_count": null,
      "outputs": []
    },
    {
      "cell_type": "markdown",
      "source": [
        "# 4. 기본적인 계산 다루기\n",
        "### 4.1 기본 수학 연산\n",
        "- 변수(variable)\n",
        "  + 어떤 데이터를 저장하는 공간을 가리키는 이름표라고 보면 되고, 그 공간에 저장되는 데이터가 계속 바뀔 수 있기 때문에 변수라고 한다.\n",
        "  + 가독성을 위해 저장할 데이터의 종류나, 그 데이터의 용도에 맞게 이름을 정하는 것이 좋다.\n",
        "    * (다른 사람들의 소스코드를 참고하다 보면 어느 정도 규칙이 있음을 알 수 있다.)"
      ],
      "metadata": {
        "id": "09vdv9tan5C1"
      }
    },
    {
      "cell_type": "code",
      "source": [
        "# 변수의 좋은 예\n",
        "pos_x = 10\n",
        "num_values = 5\n",
        "_event_flag= False\n",
        "\n",
        "# 변수의 나쁜 예\n",
        "abc = 4\n",
        "a1 = 50\n",
        "xxxx = 3.4\n",
        "temp1 = 4\n",
        "temp2 = 5"
      ],
      "metadata": {
        "id": "gOEVkVVSoS1y"
      },
      "execution_count": null,
      "outputs": []
    },
    {
      "cell_type": "markdown",
      "source": [
        "- 데이터 타입\n",
        "  + `정수`, `실수`, `bool`(True/False), `문자열` 정도로 구분할 수 있다.\n",
        "  + Python이 자동으로 관리해주므로 굳이 신경 쓸 필요가 없다.\n",
        "    * 달리 이야기하면, 데이터 타입이 내 의도와는 달리 바뀔 수 있으므로 주의도 필요하다."
      ],
      "metadata": {
        "id": "eQGAVqyWoi2Q"
      }
    },
    {
      "cell_type": "code",
      "source": [
        "# 정수\n",
        "number = 5\n",
        "\n",
        "# 실수\n",
        "value = 2.5\n",
        "\n",
        "# bool\n",
        "is_number = True\n",
        "\n",
        "# 문자열(string)\n",
        "name = 'Ivan'\n",
        "\n",
        "# 정수가 실수로 바뀌는 경우\n",
        "number = number/2\n",
        "print('number =', number)"
      ],
      "metadata": {
        "colab": {
          "base_uri": "https://localhost:8080/"
        },
        "id": "s7CMznFfo1PF",
        "outputId": "821bb32c-15cf-4062-ff87-f811a4bc2f06"
      },
      "execution_count": null,
      "outputs": [
        {
          "output_type": "stream",
          "name": "stdout",
          "text": [
            "number = 2.5\n"
          ]
        }
      ]
    },
    {
      "cell_type": "markdown",
      "source": [
        "- 기본 연산자\n",
        "  + 사칙연산\n",
        "    * 더하기 `+`, 빼기 `-`, 곱하기 `*`, 나누기 `/`\n",
        "  + 기타연산\n",
        "    * 몫 `//`, 나머지 `%`, 제곱 `**`\n",
        "  + 논리연산\n",
        "    * 크다 `>`, 크거나 같다 `>=`, 작다 `<`, 작거나 같다 `<=`, 같다 `==`, 같지 않다 `!=`, `and`, `or`"
      ],
      "metadata": {
        "id": "uHBpB1dKpMsE"
      }
    },
    {
      "cell_type": "code",
      "source": [
        "a = 10\n",
        "b = 2.5\n",
        "print(a+b, a-b, a*b, a/b, a//b, a%b, a**b)\n",
        "print(a>b, a>=b, a<b, a<=b, a==b, a>b or a<=b, a>b and a<=b)"
      ],
      "metadata": {
        "colab": {
          "base_uri": "https://localhost:8080/"
        },
        "id": "TLPwUaoqpnNV",
        "outputId": "bb60e32b-4d60-4a18-8bbb-50123f504764"
      },
      "execution_count": null,
      "outputs": [
        {
          "output_type": "stream",
          "name": "stdout",
          "text": [
            "12.5 7.5 25.0 4.0 4.0 0.0 316.22776601683796\n",
            "True True False False False True False\n"
          ]
        }
      ]
    },
    {
      "cell_type": "markdown",
      "source": [
        "- 잘 알려진 수학 함수 (numpy 라이브러리 활용)\n",
        "  + 사인 `sin`, 코사인 `cos`, exponential `exp`, 반올림 `round`, 올림 `ceil`, 내림 `floor`"
      ],
      "metadata": {
        "id": "B0skUaCTp6oR"
      }
    },
    {
      "cell_type": "code",
      "source": [
        "# numpy 라이브러리의 활용법은 나중에 좀 더 자세히 다룰 예정입니다.\n",
        "import numpy as np\n",
        "angle = np.pi/4\n",
        "print(angle)\n",
        "print(np.sin(angle))\n",
        "print(np.cos(angle))\n",
        "print(np.exp(angle))\n",
        "print(np.round(angle))\n",
        "print(np.ceil(angle))\n",
        "print(np.floor(angle))"
      ],
      "metadata": {
        "colab": {
          "base_uri": "https://localhost:8080/"
        },
        "id": "f_zjeR5sp5UX",
        "outputId": "62185d10-5020-4236-b6b5-d447b7af0287"
      },
      "execution_count": null,
      "outputs": [
        {
          "output_type": "stream",
          "name": "stdout",
          "text": [
            "0.7853981633974483\n",
            "0.7071067811865475\n",
            "0.7071067811865476\n",
            "2.1932800507380152\n",
            "1.0\n",
            "1.0\n",
            "0.0\n"
          ]
        }
      ]
    },
    {
      "cell_type": "markdown",
      "source": [
        "### 4.2 단순 반복 계산하기 (for)\n",
        "- `for` 문은 정해진 횟수를 `단순 반복`하기 위한 용도로 많이 사용되는 기본 제공 함수이다.\n",
        "- 형식\n",
        "    > for 변수 in 리스트:\n",
        "      수행문\n",
        "      ...\n",
        "\n",
        "  + 리스트에 있는 원소들이 하나씩 차례로 변수에 대입되며 반복하고, 모든 원소가 대입된 후 반복이 끝난다.\n",
        "  + 물론 리스트에 들어갈 수 있는 데이터 형태는 무엇이든지 가능하다."
      ],
      "metadata": {
        "id": "VCEt5YTeqixg"
      }
    },
    {
      "cell_type": "code",
      "source": [
        "for i in [4, 'text', 1.5, True, {'name':'Charles', 'age':15}]:\n",
        "  print(i)"
      ],
      "metadata": {
        "colab": {
          "base_uri": "https://localhost:8080/"
        },
        "id": "JfavfXngqf0l",
        "outputId": "290fd0fa-0a83-472a-a4cf-8f15d051a539"
      },
      "execution_count": null,
      "outputs": [
        {
          "output_type": "stream",
          "name": "stdout",
          "text": [
            "4\n",
            "text\n",
            "1.5\n",
            "True\n",
            "{'name': 'Charles', 'age': 15}\n"
          ]
        }
      ]
    },
    {
      "cell_type": "markdown",
      "source": [
        "- 하지만 보통 이렇게 많이 쓴다."
      ],
      "metadata": {
        "id": "tUOgwVP9rTkR"
      }
    },
    {
      "cell_type": "code",
      "source": [
        "for i in range(5):\n",
        "  print(i)"
      ],
      "metadata": {
        "colab": {
          "base_uri": "https://localhost:8080/"
        },
        "id": "mA_RLcD-rSfG",
        "outputId": "7701ee5a-0a1a-4e13-fd90-0d7d3c2b6197"
      },
      "execution_count": null,
      "outputs": [
        {
          "output_type": "stream",
          "name": "stdout",
          "text": [
            "0\n",
            "1\n",
            "2\n",
            "3\n",
            "4\n"
          ]
        }
      ]
    },
    {
      "cell_type": "markdown",
      "source": [
        "- `continue` 구문으로 반복을 한 번 스킵 할 수 있다.(`if` 문은 이번 장 맨 뒤에 좀 더 자세히 설명된다.)"
      ],
      "metadata": {
        "id": "v_ZH_wNDraby"
      }
    },
    {
      "cell_type": "code",
      "source": [
        "for i in range(5):\n",
        "  if i==3:\n",
        "    continue\n",
        "  print(i)"
      ],
      "metadata": {
        "colab": {
          "base_uri": "https://localhost:8080/"
        },
        "id": "GS3NKhfUpLnv",
        "outputId": "c0acd690-0880-417a-999c-69e5fef30ac4"
      },
      "execution_count": null,
      "outputs": [
        {
          "output_type": "stream",
          "name": "stdout",
          "text": [
            "0\n",
            "1\n",
            "2\n",
            "4\n"
          ]
        }
      ]
    },
    {
      "cell_type": "markdown",
      "source": [
        "- `break` 구문으로 반복을 완전히 끝낼 수 있다. (`break` 한 번에 하나의 반복만 탈출한다.)"
      ],
      "metadata": {
        "id": "I7oyx1Olro0H"
      }
    },
    {
      "cell_type": "code",
      "source": [
        "for i in range(5):\n",
        "  if i==3:\n",
        "    break\n",
        "  for j in range(5):\n",
        "    if j==2:\n",
        "      break\n",
        "    print(i, j)"
      ],
      "metadata": {
        "colab": {
          "base_uri": "https://localhost:8080/"
        },
        "id": "6RdcSOKJrn9l",
        "outputId": "d7e5f7e9-9642-43a9-b3d4-694b2acc21c9"
      },
      "execution_count": null,
      "outputs": [
        {
          "output_type": "stream",
          "name": "stdout",
          "text": [
            "0 0\n",
            "0 1\n",
            "1 0\n",
            "1 1\n",
            "2 0\n",
            "2 1\n"
          ]
        }
      ]
    },
    {
      "cell_type": "markdown",
      "source": [
        "- (간단한 예제) 구구단 (출력이 길어지니 2-4단만 해보자.)"
      ],
      "metadata": {
        "id": "lLhPZVTdr7bN"
      }
    },
    {
      "cell_type": "code",
      "source": [
        "for i in range(2, 5):\n",
        "  for j in range(1, 10):\n",
        "    print('%d * %d = %d' % (i, j, i*j))\n",
        "  print('---------------')"
      ],
      "metadata": {
        "colab": {
          "base_uri": "https://localhost:8080/"
        },
        "id": "pwdoaEHXr6ng",
        "outputId": "3b8c0ed2-66ca-4a8e-c957-edc4a8bd0018"
      },
      "execution_count": null,
      "outputs": [
        {
          "output_type": "stream",
          "name": "stdout",
          "text": [
            "2 * 1 = 2\n",
            "2 * 2 = 4\n",
            "2 * 3 = 6\n",
            "2 * 4 = 8\n",
            "2 * 5 = 10\n",
            "2 * 6 = 12\n",
            "2 * 7 = 14\n",
            "2 * 8 = 16\n",
            "2 * 9 = 18\n",
            "---------------\n",
            "3 * 1 = 3\n",
            "3 * 2 = 6\n",
            "3 * 3 = 9\n",
            "3 * 4 = 12\n",
            "3 * 5 = 15\n",
            "3 * 6 = 18\n",
            "3 * 7 = 21\n",
            "3 * 8 = 24\n",
            "3 * 9 = 27\n",
            "---------------\n",
            "4 * 1 = 4\n",
            "4 * 2 = 8\n",
            "4 * 3 = 12\n",
            "4 * 4 = 16\n",
            "4 * 5 = 20\n",
            "4 * 6 = 24\n",
            "4 * 7 = 28\n",
            "4 * 8 = 32\n",
            "4 * 9 = 36\n",
            "---------------\n"
          ]
        }
      ]
    },
    {
      "cell_type": "markdown",
      "source": [
        "### 4.3 조건 반복 계산하기(while)\n",
        "- `while`문은 어떤 `조건`을 만족할 때만, `반복`하도록 하는 용도로 사용한다.\n",
        "- 형식\n",
        "  > while(조건):\n",
        "    수행문\n",
        "    ...\n",
        "\n",
        "  + 조건은 bool 형태의 데이터 타입이고, `True` 또는 `False` 로 표현가능한 것을 의미한다.\n",
        "    * (조건 `and` 조건), (조건 `or` 조건)과 같이 조합해서 사용하는 것이 가능하다.\n",
        "- 조건이 `True`인 경우에 아래 수행문이 실행된 후, 다시 되돌아가 조건을 확인한다.\n",
        "- 조건이 `False`인 경우 반복을 멈추고 다음으로 넘어간다.\n",
        "- 참고로, 조건이 항상 `True`인 경우, 반복문을 멈추게 할 방법이 없기 때문에 무한루프라고 종종 이야기한다.\n",
        "  + 의도적으로 무한루프를 사용한 것이 아니라면, 조건이 경우에 따라 무한루프에 빠질 가능성은 없는지 각별히 주의해야 한다.\n",
        "  + `continue`와 `break`는 `for`문에서와 동일한 방법으로 사용할 수 있고, `break`를 이용해 무한루프를 탈출 가능하다.(아래 예제 참고)"
      ],
      "metadata": {
        "id": "EmfD9ANQsPNU"
      }
    },
    {
      "cell_type": "code",
      "source": [
        "i = [1,2,3,4,-1,5,6,7,8]\n",
        "j = []\n",
        "count=0\n",
        "while(i[count]>0):\n",
        "    j.append(i[count])\n",
        "    count = count + 1\n",
        "print(j)"
      ],
      "metadata": {
        "colab": {
          "base_uri": "https://localhost:8080/"
        },
        "id": "0ANz19oWsNwz",
        "outputId": "41bcaebf-409e-42ff-c9cc-bdf51606064c"
      },
      "execution_count": null,
      "outputs": [
        {
          "output_type": "stream",
          "name": "stdout",
          "text": [
            "[1, 2, 3, 4]\n"
          ]
        }
      ]
    },
    {
      "cell_type": "markdown",
      "source": [
        "- (간단한 예제) 구구단 (입력을 받아 원하는 구구단을 출력하게 해보자.)"
      ],
      "metadata": {
        "id": "aAR6PtQ2tQmy"
      }
    },
    {
      "cell_type": "code",
      "source": [
        "# 프로그램 동작에 관한 정보를 제공한다.\n",
        "print('원하는 단수를 입력하시고, 종료하려면 -1을 입력하세요.')\n",
        "\n",
        "# 의도적으로 무한루프를 활용한다.\n",
        "while(True):\n",
        "    \n",
        "    # 사용자가 정수를 입력해준다고 가정한다.\n",
        "    i = int(input())\n",
        "    \n",
        "    # -1 입력시 반복문을 탈출한다.\n",
        "    if i==-1:\n",
        "        break\n",
        "    \n",
        "    # 출력\n",
        "    for j in range(1,10):\n",
        "        print('%d x %d = %d' % (i, j, i*j))"
      ],
      "metadata": {
        "colab": {
          "base_uri": "https://localhost:8080/"
        },
        "id": "D-dVAn1stPZO",
        "outputId": "a05700de-8bf0-4080-eedf-53de9fac1298"
      },
      "execution_count": null,
      "outputs": [
        {
          "metadata": {
            "tags": null
          },
          "name": "stdout",
          "output_type": "stream",
          "text": [
            "원하는 단수를 입력하시고, 종료하려면 -1을 입력하세요.\n",
            "5 x 1 = 5\n",
            "5 x 2 = 10\n",
            "5 x 3 = 15\n",
            "5 x 4 = 20\n",
            "5 x 5 = 25\n",
            "5 x 6 = 30\n",
            "5 x 7 = 35\n",
            "5 x 8 = 40\n",
            "5 x 9 = 45\n"
          ]
        }
      ]
    },
    {
      "cell_type": "markdown",
      "source": [
        "### 4.4 좀 더 복잡한 계산하기 (if)\n",
        "- `if`문은 어떤 `조건`을 만족할 때 원하는 기능이수행되게 할 수 있다. (`while`과 달리 반복은 없다.)\n",
        "- 형식\n",
        "  > if (조건):\n",
        "      수행문\n",
        "      ...\n",
        "    elif (조건):\n",
        "      수행문\n",
        "      ...\n",
        "    else:\n",
        "      수행문\n",
        "      ...\n",
        "\n",
        "- 조건이 `True`인 경우에 아래 수행문이 실행된다.\n",
        "- 조건이 `False`일 때 한 번 더 확인할 조건이 있다면 `elif` 문을 이용한다.\n",
        "- 조건이 `False`인 경우에 실행할 수행문이 있다면, `else`문 이하에 배치하면 된다.\n",
        "- `if`문의 예제는 이미 위에서 많이 언급되었기에 생략한다."
      ],
      "metadata": {
        "id": "-8-0nCu7tatC"
      }
    },
    {
      "cell_type": "markdown",
      "source": [
        "## Problem 2\n",
        "* 프로그램 작성해보기\n",
        "  + 제시된 출력결과를 보고, 아래 미완성 프로그램을 완성"
      ],
      "metadata": {
        "id": "tb1HYzjzuUvc"
      }
    },
    {
      "cell_type": "code",
      "source": [
        "# 사용자로부터 변수를 입력받아 저장\n",
        "name =input('What is your name?')\n",
        "age = int(input('How old are you?'))\n",
        "grade = float(input('What is your grade point average?'))\n",
        "\n",
        "# 저장된 결과를 화면에 출력\n",
        "print('Your name is %s' % name)\n",
        "print('Your age is %d' % age)\n",
        "print('Your grade is %.1f' % grade)"
      ],
      "metadata": {
        "id": "-rDjw9FyuXeB"
      },
      "execution_count": null,
      "outputs": []
    }
  ]
}